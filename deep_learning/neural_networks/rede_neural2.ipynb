{
  "nbformat": 4,
  "nbformat_minor": 0,
  "metadata": {
    "colab": {
      "name": "rede_neural2.ipynb",
      "provenance": []
    },
    "kernelspec": {
      "name": "python3",
      "display_name": "Python 3"
    },
    "language_info": {
      "name": "python"
    }
  },
  "cells": [
    {
      "cell_type": "code",
      "execution_count": 66,
      "metadata": {
        "id": "b8WPSu54ZmW1"
      },
      "outputs": [],
      "source": [
        "# importacao das bibliotecas\n",
        "import pandas as pd\n",
        "from sklearn.model_selection import train_test_split \n",
        "import keras\n",
        "from keras import Sequential\n",
        "from keras.layers import Dense\n",
        "from sklearn.metrics import accuracy_score, confusion_matrix\n",
        "from tensorflow.keras.optimizers import Adam"
      ]
    },
    {
      "cell_type": "code",
      "source": [
        "# camada densa = todos neuronios de uma camada e ligado a todos os outros da camada sequente\n",
        "# rede neural full connected = rede neural q so tem camada dense "
      ],
      "metadata": {
        "id": "ePj43yN52Fpz"
      },
      "execution_count": 4,
      "outputs": []
    },
    {
      "cell_type": "code",
      "source": [
        "# abrindo arquivos csv\n",
        "entradas = pd.read_csv(\"/datalab/entradas_breast.csv\")\n",
        "saidas = pd.read_csv(\"/datalab/saidas_breast.csv\")"
      ],
      "metadata": {
        "id": "OVnKPcgP2mzA"
      },
      "execution_count": 5,
      "outputs": []
    },
    {
      "cell_type": "code",
      "source": [
        "# dados\n",
        "entradas.head(5)"
      ],
      "metadata": {
        "colab": {
          "base_uri": "https://localhost:8080/",
          "height": 270
        },
        "id": "EfNbJJIg3AA7",
        "outputId": "4131caef-c399-40a0-b3d6-47964642905b"
      },
      "execution_count": 6,
      "outputs": [
        {
          "output_type": "execute_result",
          "data": {
            "text/plain": [
              "    radius_mean   texture_mean  ...   symmetry_worst   fractal_dimension_worst\n",
              "0         17.99          10.38  ...           0.4601                   0.11890\n",
              "1         20.57          17.77  ...         275.0000                   0.08902\n",
              "2         19.69          21.25  ...           0.3613                   0.08758\n",
              "3         11.42          20.38  ...           0.6638                 173.00000\n",
              "4         20.29          14.34  ...           0.2364                   0.07678\n",
              "\n",
              "[5 rows x 30 columns]"
            ],
            "text/html": [
              "\n",
              "  <div id=\"df-864160c9-e701-45c2-8be2-3cfdd8819d11\">\n",
              "    <div class=\"colab-df-container\">\n",
              "      <div>\n",
              "<style scoped>\n",
              "    .dataframe tbody tr th:only-of-type {\n",
              "        vertical-align: middle;\n",
              "    }\n",
              "\n",
              "    .dataframe tbody tr th {\n",
              "        vertical-align: top;\n",
              "    }\n",
              "\n",
              "    .dataframe thead th {\n",
              "        text-align: right;\n",
              "    }\n",
              "</style>\n",
              "<table border=\"1\" class=\"dataframe\">\n",
              "  <thead>\n",
              "    <tr style=\"text-align: right;\">\n",
              "      <th></th>\n",
              "      <th>radius_mean</th>\n",
              "      <th>texture_mean</th>\n",
              "      <th>perimeter_mean</th>\n",
              "      <th>area_mean</th>\n",
              "      <th>smoothness_mean</th>\n",
              "      <th>compactness_mean</th>\n",
              "      <th>concavity_mean</th>\n",
              "      <th>concave_points_mean</th>\n",
              "      <th>symmetry_mean</th>\n",
              "      <th>fractal_dimension_mean</th>\n",
              "      <th>radius_se</th>\n",
              "      <th>texture_se</th>\n",
              "      <th>perimeter_se</th>\n",
              "      <th>area_se</th>\n",
              "      <th>smoothness_se</th>\n",
              "      <th>compactness_se</th>\n",
              "      <th>concavity_se</th>\n",
              "      <th>concave_points_se</th>\n",
              "      <th>symmetry_se</th>\n",
              "      <th>fractal_dimension_se</th>\n",
              "      <th>radius_worst</th>\n",
              "      <th>texture_worst</th>\n",
              "      <th>perimeter_worst</th>\n",
              "      <th>area_worst</th>\n",
              "      <th>smoothness_worst</th>\n",
              "      <th>compactness_worst</th>\n",
              "      <th>concavity_worst</th>\n",
              "      <th>concave_points_worst</th>\n",
              "      <th>symmetry_worst</th>\n",
              "      <th>fractal_dimension_worst</th>\n",
              "    </tr>\n",
              "  </thead>\n",
              "  <tbody>\n",
              "    <tr>\n",
              "      <th>0</th>\n",
              "      <td>17.99</td>\n",
              "      <td>10.38</td>\n",
              "      <td>122.80</td>\n",
              "      <td>1001.0</td>\n",
              "      <td>0.11840</td>\n",
              "      <td>0.27760</td>\n",
              "      <td>0.3001</td>\n",
              "      <td>0.14710</td>\n",
              "      <td>0.2419</td>\n",
              "      <td>0.07871</td>\n",
              "      <td>1095.0000</td>\n",
              "      <td>0.9053</td>\n",
              "      <td>8589.0</td>\n",
              "      <td>153.40</td>\n",
              "      <td>0.006399</td>\n",
              "      <td>0.04904</td>\n",
              "      <td>0.05373</td>\n",
              "      <td>0.01587</td>\n",
              "      <td>0.03003</td>\n",
              "      <td>0.006193</td>\n",
              "      <td>25.38</td>\n",
              "      <td>17.33</td>\n",
              "      <td>184.60</td>\n",
              "      <td>2019.0</td>\n",
              "      <td>0.1622</td>\n",
              "      <td>0.6656</td>\n",
              "      <td>0.7119</td>\n",
              "      <td>0.2654</td>\n",
              "      <td>0.4601</td>\n",
              "      <td>0.11890</td>\n",
              "    </tr>\n",
              "    <tr>\n",
              "      <th>1</th>\n",
              "      <td>20.57</td>\n",
              "      <td>17.77</td>\n",
              "      <td>132.90</td>\n",
              "      <td>1326.0</td>\n",
              "      <td>0.08474</td>\n",
              "      <td>0.07864</td>\n",
              "      <td>0.0869</td>\n",
              "      <td>0.07017</td>\n",
              "      <td>0.1812</td>\n",
              "      <td>0.05667</td>\n",
              "      <td>0.5435</td>\n",
              "      <td>0.7339</td>\n",
              "      <td>3398.0</td>\n",
              "      <td>74.08</td>\n",
              "      <td>0.005225</td>\n",
              "      <td>0.01308</td>\n",
              "      <td>0.01860</td>\n",
              "      <td>0.01340</td>\n",
              "      <td>0.01389</td>\n",
              "      <td>0.003532</td>\n",
              "      <td>24.99</td>\n",
              "      <td>23.41</td>\n",
              "      <td>158.80</td>\n",
              "      <td>1956.0</td>\n",
              "      <td>0.1238</td>\n",
              "      <td>0.1866</td>\n",
              "      <td>0.2416</td>\n",
              "      <td>186.0000</td>\n",
              "      <td>275.0000</td>\n",
              "      <td>0.08902</td>\n",
              "    </tr>\n",
              "    <tr>\n",
              "      <th>2</th>\n",
              "      <td>19.69</td>\n",
              "      <td>21.25</td>\n",
              "      <td>130.00</td>\n",
              "      <td>1203.0</td>\n",
              "      <td>0.10960</td>\n",
              "      <td>0.15990</td>\n",
              "      <td>0.1974</td>\n",
              "      <td>0.12790</td>\n",
              "      <td>0.2069</td>\n",
              "      <td>0.05999</td>\n",
              "      <td>0.7456</td>\n",
              "      <td>0.7869</td>\n",
              "      <td>4585.0</td>\n",
              "      <td>94.03</td>\n",
              "      <td>0.006150</td>\n",
              "      <td>0.04006</td>\n",
              "      <td>0.03832</td>\n",
              "      <td>0.02058</td>\n",
              "      <td>0.02250</td>\n",
              "      <td>0.004571</td>\n",
              "      <td>23.57</td>\n",
              "      <td>25.53</td>\n",
              "      <td>152.50</td>\n",
              "      <td>1709.0</td>\n",
              "      <td>0.1444</td>\n",
              "      <td>0.4245</td>\n",
              "      <td>0.4504</td>\n",
              "      <td>243.0000</td>\n",
              "      <td>0.3613</td>\n",
              "      <td>0.08758</td>\n",
              "    </tr>\n",
              "    <tr>\n",
              "      <th>3</th>\n",
              "      <td>11.42</td>\n",
              "      <td>20.38</td>\n",
              "      <td>77.58</td>\n",
              "      <td>386.1</td>\n",
              "      <td>0.14250</td>\n",
              "      <td>0.28390</td>\n",
              "      <td>0.2414</td>\n",
              "      <td>0.10520</td>\n",
              "      <td>0.2597</td>\n",
              "      <td>0.09744</td>\n",
              "      <td>0.4956</td>\n",
              "      <td>1156.0000</td>\n",
              "      <td>3445.0</td>\n",
              "      <td>27.23</td>\n",
              "      <td>0.009110</td>\n",
              "      <td>0.07458</td>\n",
              "      <td>0.05661</td>\n",
              "      <td>0.01867</td>\n",
              "      <td>0.05963</td>\n",
              "      <td>0.009208</td>\n",
              "      <td>14.91</td>\n",
              "      <td>26.50</td>\n",
              "      <td>98.87</td>\n",
              "      <td>567.7</td>\n",
              "      <td>0.2098</td>\n",
              "      <td>0.8663</td>\n",
              "      <td>0.6869</td>\n",
              "      <td>0.2575</td>\n",
              "      <td>0.6638</td>\n",
              "      <td>173.00000</td>\n",
              "    </tr>\n",
              "    <tr>\n",
              "      <th>4</th>\n",
              "      <td>20.29</td>\n",
              "      <td>14.34</td>\n",
              "      <td>135.10</td>\n",
              "      <td>1297.0</td>\n",
              "      <td>0.10030</td>\n",
              "      <td>0.13280</td>\n",
              "      <td>198.0000</td>\n",
              "      <td>0.10430</td>\n",
              "      <td>0.1809</td>\n",
              "      <td>0.05883</td>\n",
              "      <td>0.7572</td>\n",
              "      <td>0.7813</td>\n",
              "      <td>5438.0</td>\n",
              "      <td>94.44</td>\n",
              "      <td>0.011490</td>\n",
              "      <td>0.02461</td>\n",
              "      <td>0.05688</td>\n",
              "      <td>0.01885</td>\n",
              "      <td>0.01756</td>\n",
              "      <td>0.005115</td>\n",
              "      <td>22.54</td>\n",
              "      <td>16.67</td>\n",
              "      <td>152.20</td>\n",
              "      <td>1575.0</td>\n",
              "      <td>0.1374</td>\n",
              "      <td>205.0000</td>\n",
              "      <td>0.4000</td>\n",
              "      <td>0.1625</td>\n",
              "      <td>0.2364</td>\n",
              "      <td>0.07678</td>\n",
              "    </tr>\n",
              "  </tbody>\n",
              "</table>\n",
              "</div>\n",
              "      <button class=\"colab-df-convert\" onclick=\"convertToInteractive('df-864160c9-e701-45c2-8be2-3cfdd8819d11')\"\n",
              "              title=\"Convert this dataframe to an interactive table.\"\n",
              "              style=\"display:none;\">\n",
              "        \n",
              "  <svg xmlns=\"http://www.w3.org/2000/svg\" height=\"24px\"viewBox=\"0 0 24 24\"\n",
              "       width=\"24px\">\n",
              "    <path d=\"M0 0h24v24H0V0z\" fill=\"none\"/>\n",
              "    <path d=\"M18.56 5.44l.94 2.06.94-2.06 2.06-.94-2.06-.94-.94-2.06-.94 2.06-2.06.94zm-11 1L8.5 8.5l.94-2.06 2.06-.94-2.06-.94L8.5 2.5l-.94 2.06-2.06.94zm10 10l.94 2.06.94-2.06 2.06-.94-2.06-.94-.94-2.06-.94 2.06-2.06.94z\"/><path d=\"M17.41 7.96l-1.37-1.37c-.4-.4-.92-.59-1.43-.59-.52 0-1.04.2-1.43.59L10.3 9.45l-7.72 7.72c-.78.78-.78 2.05 0 2.83L4 21.41c.39.39.9.59 1.41.59.51 0 1.02-.2 1.41-.59l7.78-7.78 2.81-2.81c.8-.78.8-2.07 0-2.86zM5.41 20L4 18.59l7.72-7.72 1.47 1.35L5.41 20z\"/>\n",
              "  </svg>\n",
              "      </button>\n",
              "      \n",
              "  <style>\n",
              "    .colab-df-container {\n",
              "      display:flex;\n",
              "      flex-wrap:wrap;\n",
              "      gap: 12px;\n",
              "    }\n",
              "\n",
              "    .colab-df-convert {\n",
              "      background-color: #E8F0FE;\n",
              "      border: none;\n",
              "      border-radius: 50%;\n",
              "      cursor: pointer;\n",
              "      display: none;\n",
              "      fill: #1967D2;\n",
              "      height: 32px;\n",
              "      padding: 0 0 0 0;\n",
              "      width: 32px;\n",
              "    }\n",
              "\n",
              "    .colab-df-convert:hover {\n",
              "      background-color: #E2EBFA;\n",
              "      box-shadow: 0px 1px 2px rgba(60, 64, 67, 0.3), 0px 1px 3px 1px rgba(60, 64, 67, 0.15);\n",
              "      fill: #174EA6;\n",
              "    }\n",
              "\n",
              "    [theme=dark] .colab-df-convert {\n",
              "      background-color: #3B4455;\n",
              "      fill: #D2E3FC;\n",
              "    }\n",
              "\n",
              "    [theme=dark] .colab-df-convert:hover {\n",
              "      background-color: #434B5C;\n",
              "      box-shadow: 0px 1px 3px 1px rgba(0, 0, 0, 0.15);\n",
              "      filter: drop-shadow(0px 1px 2px rgba(0, 0, 0, 0.3));\n",
              "      fill: #FFFFFF;\n",
              "    }\n",
              "  </style>\n",
              "\n",
              "      <script>\n",
              "        const buttonEl =\n",
              "          document.querySelector('#df-864160c9-e701-45c2-8be2-3cfdd8819d11 button.colab-df-convert');\n",
              "        buttonEl.style.display =\n",
              "          google.colab.kernel.accessAllowed ? 'block' : 'none';\n",
              "\n",
              "        async function convertToInteractive(key) {\n",
              "          const element = document.querySelector('#df-864160c9-e701-45c2-8be2-3cfdd8819d11');\n",
              "          const dataTable =\n",
              "            await google.colab.kernel.invokeFunction('convertToInteractive',\n",
              "                                                     [key], {});\n",
              "          if (!dataTable) return;\n",
              "\n",
              "          const docLinkHtml = 'Like what you see? Visit the ' +\n",
              "            '<a target=\"_blank\" href=https://colab.research.google.com/notebooks/data_table.ipynb>data table notebook</a>'\n",
              "            + ' to learn more about interactive tables.';\n",
              "          element.innerHTML = '';\n",
              "          dataTable['output_type'] = 'display_data';\n",
              "          await google.colab.output.renderOutput(dataTable, element);\n",
              "          const docLink = document.createElement('div');\n",
              "          docLink.innerHTML = docLinkHtml;\n",
              "          element.appendChild(docLink);\n",
              "        }\n",
              "      </script>\n",
              "    </div>\n",
              "  </div>\n",
              "  "
            ]
          },
          "metadata": {},
          "execution_count": 6
        }
      ]
    },
    {
      "cell_type": "code",
      "source": [
        "# shape dos dados\n",
        "entradas.shape, saidas.shape"
      ],
      "metadata": {
        "colab": {
          "base_uri": "https://localhost:8080/"
        },
        "id": "zVZQGfJC-atq",
        "outputId": "fdc13903-cf7a-4a03-e62c-dd8c058f6b2e"
      },
      "execution_count": 30,
      "outputs": [
        {
          "output_type": "execute_result",
          "data": {
            "text/plain": [
              "((569, 30), (569, 1))"
            ]
          },
          "metadata": {},
          "execution_count": 30
        }
      ]
    },
    {
      "cell_type": "code",
      "source": [
        "# divisao dos dados em treino e teste\n",
        "x_train, x_test, y_train, y_test = train_test_split(entradas,saidas, test_size=0.25, random_state=42)"
      ],
      "metadata": {
        "id": "9ylCN7Ox3Opj"
      },
      "execution_count": 11,
      "outputs": []
    },
    {
      "cell_type": "markdown",
      "source": [
        "input_dim = numero de neuronios de entrada = equivale a dimensao dos dados\n",
        "\n",
        "cada classificador.add e uma layer da rede\n",
        "\n",
        "units = unidades de neuronios da camda\n",
        "\n",
        "dense = tipo de camada, dense quando todos os neuronios de uma camada \n",
        "estao conectados com a camada seguinte "
      ],
      "metadata": {
        "id": "G_C317jj6Fu5"
      }
    },
    {
      "cell_type": "code",
      "source": [
        "# criacao da rede neural\n",
        "classificador = Sequential()\n",
        "classificador.add(Dense(units = 16, activation= \"relu\", kernel_initializer= \"random_uniform\", input_dim = 30))\n",
        "classificador.add(Dense(units = 16, activation= \"relu\", kernel_initializer= \"random_uniform\"))\n",
        "classificador.add(Dense(units = 1, activation= \"sigmoid\"))"
      ],
      "metadata": {
        "id": "oHMlNW6J3Tx-"
      },
      "execution_count": 73,
      "outputs": []
    },
    {
      "cell_type": "code",
      "source": [
        "optimizador = Adam(lr = 0.001, decay = 0.0001, clipvalue = 0.5)"
      ],
      "metadata": {
        "id": "3nBMfmGbDF-t"
      },
      "execution_count": 74,
      "outputs": []
    },
    {
      "cell_type": "code",
      "source": [
        "# compilacao da rede neural, e capaz de passar mais de uma metrica\n",
        "classificador.compile(optimizer = optimizador, loss = \"binary_crossentropy\", metrics = ['binary_accuracy'])\n",
        "# optimizer = \"adam\""
      ],
      "metadata": {
        "id": "8BOcswmg3XBr"
      },
      "execution_count": 75,
      "outputs": []
    },
    {
      "cell_type": "code",
      "source": [
        "# treinamento do modelo\n",
        "classificador.fit(x_train, y_train, batch_size = 10, epochs = 100)"
      ],
      "metadata": {
        "colab": {
          "base_uri": "https://localhost:8080/"
        },
        "id": "f4N2ULwW47i0",
        "outputId": "abe584f8-e570-46ad-b54f-28ac629e7ce0"
      },
      "execution_count": 76,
      "outputs": [
        {
          "output_type": "stream",
          "name": "stdout",
          "text": [
            "Epoch 1/100\n",
            "43/43 [==============================] - 1s 2ms/step - loss: 1.1869 - binary_accuracy: 0.5376\n",
            "Epoch 2/100\n",
            "43/43 [==============================] - 0s 2ms/step - loss: 0.5764 - binary_accuracy: 0.6432\n",
            "Epoch 3/100\n",
            "43/43 [==============================] - 0s 3ms/step - loss: 0.5265 - binary_accuracy: 0.7066\n",
            "Epoch 4/100\n",
            "43/43 [==============================] - 0s 2ms/step - loss: 0.6192 - binary_accuracy: 0.7394\n",
            "Epoch 5/100\n",
            "43/43 [==============================] - 0s 3ms/step - loss: 0.5220 - binary_accuracy: 0.7441\n",
            "Epoch 6/100\n",
            "43/43 [==============================] - 0s 2ms/step - loss: 0.4695 - binary_accuracy: 0.7488\n",
            "Epoch 7/100\n",
            "43/43 [==============================] - 0s 3ms/step - loss: 0.4801 - binary_accuracy: 0.7746\n",
            "Epoch 8/100\n",
            "43/43 [==============================] - 0s 3ms/step - loss: 0.5372 - binary_accuracy: 0.7817\n",
            "Epoch 9/100\n",
            "43/43 [==============================] - 0s 2ms/step - loss: 0.4561 - binary_accuracy: 0.8028\n",
            "Epoch 10/100\n",
            "43/43 [==============================] - 0s 3ms/step - loss: 0.4714 - binary_accuracy: 0.8075\n",
            "Epoch 11/100\n",
            "43/43 [==============================] - 0s 3ms/step - loss: 0.4872 - binary_accuracy: 0.8099\n",
            "Epoch 12/100\n",
            "43/43 [==============================] - 0s 2ms/step - loss: 0.4354 - binary_accuracy: 0.8333\n",
            "Epoch 13/100\n",
            "43/43 [==============================] - 0s 2ms/step - loss: 0.4536 - binary_accuracy: 0.8404\n",
            "Epoch 14/100\n",
            "43/43 [==============================] - 0s 2ms/step - loss: 0.4818 - binary_accuracy: 0.8028\n",
            "Epoch 15/100\n",
            "43/43 [==============================] - 0s 2ms/step - loss: 0.5919 - binary_accuracy: 0.7817\n",
            "Epoch 16/100\n",
            "43/43 [==============================] - 0s 3ms/step - loss: 0.4315 - binary_accuracy: 0.8357\n",
            "Epoch 17/100\n",
            "43/43 [==============================] - 0s 3ms/step - loss: 0.3932 - binary_accuracy: 0.8545\n",
            "Epoch 18/100\n",
            "43/43 [==============================] - 0s 2ms/step - loss: 0.4589 - binary_accuracy: 0.8122\n",
            "Epoch 19/100\n",
            "43/43 [==============================] - 0s 2ms/step - loss: 0.5278 - binary_accuracy: 0.8357\n",
            "Epoch 20/100\n",
            "43/43 [==============================] - 0s 2ms/step - loss: 0.3680 - binary_accuracy: 0.8404\n",
            "Epoch 21/100\n",
            "43/43 [==============================] - 0s 3ms/step - loss: 0.3656 - binary_accuracy: 0.8592\n",
            "Epoch 22/100\n",
            "43/43 [==============================] - 0s 2ms/step - loss: 0.3408 - binary_accuracy: 0.8404\n",
            "Epoch 23/100\n",
            "43/43 [==============================] - 0s 2ms/step - loss: 0.3734 - binary_accuracy: 0.8545\n",
            "Epoch 24/100\n",
            "43/43 [==============================] - 0s 2ms/step - loss: 0.3669 - binary_accuracy: 0.8545\n",
            "Epoch 25/100\n",
            "43/43 [==============================] - 0s 3ms/step - loss: 0.3325 - binary_accuracy: 0.8756\n",
            "Epoch 26/100\n",
            "43/43 [==============================] - 0s 3ms/step - loss: 0.4100 - binary_accuracy: 0.8545\n",
            "Epoch 27/100\n",
            "43/43 [==============================] - 0s 2ms/step - loss: 0.4018 - binary_accuracy: 0.8592\n",
            "Epoch 28/100\n",
            "43/43 [==============================] - 0s 3ms/step - loss: 0.4020 - binary_accuracy: 0.8521\n",
            "Epoch 29/100\n",
            "43/43 [==============================] - 0s 3ms/step - loss: 0.5583 - binary_accuracy: 0.8099\n",
            "Epoch 30/100\n",
            "43/43 [==============================] - 0s 2ms/step - loss: 0.3782 - binary_accuracy: 0.8662\n",
            "Epoch 31/100\n",
            "43/43 [==============================] - 0s 2ms/step - loss: 0.3454 - binary_accuracy: 0.8521\n",
            "Epoch 32/100\n",
            "43/43 [==============================] - 0s 2ms/step - loss: 0.3509 - binary_accuracy: 0.8803\n",
            "Epoch 33/100\n",
            "43/43 [==============================] - 0s 3ms/step - loss: 0.3973 - binary_accuracy: 0.8944\n",
            "Epoch 34/100\n",
            "43/43 [==============================] - 0s 3ms/step - loss: 0.4234 - binary_accuracy: 0.8474\n",
            "Epoch 35/100\n",
            "43/43 [==============================] - 0s 2ms/step - loss: 0.3810 - binary_accuracy: 0.8568\n",
            "Epoch 36/100\n",
            "43/43 [==============================] - 0s 3ms/step - loss: 0.3208 - binary_accuracy: 0.8732\n",
            "Epoch 37/100\n",
            "43/43 [==============================] - 0s 2ms/step - loss: 0.3590 - binary_accuracy: 0.8685\n",
            "Epoch 38/100\n",
            "43/43 [==============================] - 0s 3ms/step - loss: 0.3349 - binary_accuracy: 0.8709\n",
            "Epoch 39/100\n",
            "43/43 [==============================] - 0s 2ms/step - loss: 0.3389 - binary_accuracy: 0.8873\n",
            "Epoch 40/100\n",
            "43/43 [==============================] - 0s 2ms/step - loss: 0.3511 - binary_accuracy: 0.8732\n",
            "Epoch 41/100\n",
            "43/43 [==============================] - 0s 2ms/step - loss: 0.3766 - binary_accuracy: 0.8545\n",
            "Epoch 42/100\n",
            "43/43 [==============================] - 0s 3ms/step - loss: 0.4067 - binary_accuracy: 0.8779\n",
            "Epoch 43/100\n",
            "43/43 [==============================] - 0s 3ms/step - loss: 0.4883 - binary_accuracy: 0.8545\n",
            "Epoch 44/100\n",
            "43/43 [==============================] - 0s 2ms/step - loss: 0.4358 - binary_accuracy: 0.8545\n",
            "Epoch 45/100\n",
            "43/43 [==============================] - 0s 2ms/step - loss: 0.4134 - binary_accuracy: 0.8662\n",
            "Epoch 46/100\n",
            "43/43 [==============================] - 0s 2ms/step - loss: 0.3929 - binary_accuracy: 0.8592\n",
            "Epoch 47/100\n",
            "43/43 [==============================] - 0s 3ms/step - loss: 0.4449 - binary_accuracy: 0.8427\n",
            "Epoch 48/100\n",
            "43/43 [==============================] - 0s 3ms/step - loss: 0.4042 - binary_accuracy: 0.8498\n",
            "Epoch 49/100\n",
            "43/43 [==============================] - 0s 3ms/step - loss: 0.3497 - binary_accuracy: 0.8662\n",
            "Epoch 50/100\n",
            "43/43 [==============================] - 0s 2ms/step - loss: 0.3906 - binary_accuracy: 0.8709\n",
            "Epoch 51/100\n",
            "43/43 [==============================] - 0s 3ms/step - loss: 0.3203 - binary_accuracy: 0.8826\n",
            "Epoch 52/100\n",
            "43/43 [==============================] - 0s 3ms/step - loss: 0.3899 - binary_accuracy: 0.8732\n",
            "Epoch 53/100\n",
            "43/43 [==============================] - 0s 2ms/step - loss: 0.3911 - binary_accuracy: 0.8638\n",
            "Epoch 54/100\n",
            "43/43 [==============================] - 0s 2ms/step - loss: 0.5186 - binary_accuracy: 0.8239\n",
            "Epoch 55/100\n",
            "43/43 [==============================] - 0s 2ms/step - loss: 0.3613 - binary_accuracy: 0.8850\n",
            "Epoch 56/100\n",
            "43/43 [==============================] - 0s 3ms/step - loss: 0.3718 - binary_accuracy: 0.8709\n",
            "Epoch 57/100\n",
            "43/43 [==============================] - 0s 3ms/step - loss: 0.4026 - binary_accuracy: 0.8779\n",
            "Epoch 58/100\n",
            "43/43 [==============================] - 0s 3ms/step - loss: 0.5216 - binary_accuracy: 0.8615\n",
            "Epoch 59/100\n",
            "43/43 [==============================] - 0s 2ms/step - loss: 0.3953 - binary_accuracy: 0.8709\n",
            "Epoch 60/100\n",
            "43/43 [==============================] - 0s 3ms/step - loss: 0.4766 - binary_accuracy: 0.8638\n",
            "Epoch 61/100\n",
            "43/43 [==============================] - 0s 2ms/step - loss: 0.3384 - binary_accuracy: 0.8662\n",
            "Epoch 62/100\n",
            "43/43 [==============================] - 0s 2ms/step - loss: 0.4259 - binary_accuracy: 0.8638\n",
            "Epoch 63/100\n",
            "43/43 [==============================] - 0s 3ms/step - loss: 0.3337 - binary_accuracy: 0.8873\n",
            "Epoch 64/100\n",
            "43/43 [==============================] - 0s 3ms/step - loss: 0.4708 - binary_accuracy: 0.8568\n",
            "Epoch 65/100\n",
            "43/43 [==============================] - 0s 3ms/step - loss: 0.3719 - binary_accuracy: 0.8638\n",
            "Epoch 66/100\n",
            "43/43 [==============================] - 0s 3ms/step - loss: 0.4099 - binary_accuracy: 0.8826\n",
            "Epoch 67/100\n",
            "43/43 [==============================] - 0s 2ms/step - loss: 0.4499 - binary_accuracy: 0.8732\n",
            "Epoch 68/100\n",
            "43/43 [==============================] - 0s 2ms/step - loss: 0.4277 - binary_accuracy: 0.8850\n",
            "Epoch 69/100\n",
            "43/43 [==============================] - 0s 3ms/step - loss: 0.3941 - binary_accuracy: 0.8944\n",
            "Epoch 70/100\n",
            "43/43 [==============================] - 0s 3ms/step - loss: 0.4047 - binary_accuracy: 0.8615\n",
            "Epoch 71/100\n",
            "43/43 [==============================] - 0s 2ms/step - loss: 0.4669 - binary_accuracy: 0.8897\n",
            "Epoch 72/100\n",
            "43/43 [==============================] - 0s 2ms/step - loss: 0.4555 - binary_accuracy: 0.8873\n",
            "Epoch 73/100\n",
            "43/43 [==============================] - 0s 3ms/step - loss: 0.7140 - binary_accuracy: 0.8451\n",
            "Epoch 74/100\n",
            "43/43 [==============================] - 0s 2ms/step - loss: 0.5224 - binary_accuracy: 0.8779\n",
            "Epoch 75/100\n",
            "43/43 [==============================] - 0s 3ms/step - loss: 0.6159 - binary_accuracy: 0.8709\n",
            "Epoch 76/100\n",
            "43/43 [==============================] - 0s 3ms/step - loss: 0.6261 - binary_accuracy: 0.8380\n",
            "Epoch 77/100\n",
            "43/43 [==============================] - 0s 3ms/step - loss: 0.5915 - binary_accuracy: 0.8404\n",
            "Epoch 78/100\n",
            "43/43 [==============================] - 0s 3ms/step - loss: 0.3888 - binary_accuracy: 0.8920\n",
            "Epoch 79/100\n",
            "43/43 [==============================] - 0s 3ms/step - loss: 0.4448 - binary_accuracy: 0.8662\n",
            "Epoch 80/100\n",
            "43/43 [==============================] - 0s 2ms/step - loss: 0.4362 - binary_accuracy: 0.8709\n",
            "Epoch 81/100\n",
            "43/43 [==============================] - 0s 3ms/step - loss: 0.4475 - binary_accuracy: 0.8685\n",
            "Epoch 82/100\n",
            "43/43 [==============================] - 0s 3ms/step - loss: 0.4426 - binary_accuracy: 0.8826\n",
            "Epoch 83/100\n",
            "43/43 [==============================] - 0s 2ms/step - loss: 0.4626 - binary_accuracy: 0.8685\n",
            "Epoch 84/100\n",
            "43/43 [==============================] - 0s 2ms/step - loss: 0.4738 - binary_accuracy: 0.8756\n",
            "Epoch 85/100\n",
            "43/43 [==============================] - 0s 2ms/step - loss: 0.4671 - binary_accuracy: 0.8709\n",
            "Epoch 86/100\n",
            "43/43 [==============================] - 0s 3ms/step - loss: 0.3962 - binary_accuracy: 0.8545\n",
            "Epoch 87/100\n",
            "43/43 [==============================] - 0s 3ms/step - loss: 0.5489 - binary_accuracy: 0.8568\n",
            "Epoch 88/100\n",
            "43/43 [==============================] - 0s 2ms/step - loss: 0.5163 - binary_accuracy: 0.8474\n",
            "Epoch 89/100\n",
            "43/43 [==============================] - 0s 2ms/step - loss: 0.5752 - binary_accuracy: 0.8709\n",
            "Epoch 90/100\n",
            "43/43 [==============================] - 0s 3ms/step - loss: 0.5327 - binary_accuracy: 0.8310\n",
            "Epoch 91/100\n",
            "43/43 [==============================] - 0s 3ms/step - loss: 0.5665 - binary_accuracy: 0.8568\n",
            "Epoch 92/100\n",
            "43/43 [==============================] - 0s 3ms/step - loss: 0.5311 - binary_accuracy: 0.8592\n",
            "Epoch 93/100\n",
            "43/43 [==============================] - 0s 3ms/step - loss: 0.5734 - binary_accuracy: 0.8451\n",
            "Epoch 94/100\n",
            "43/43 [==============================] - 0s 3ms/step - loss: 1.0173 - binary_accuracy: 0.7840\n",
            "Epoch 95/100\n",
            "43/43 [==============================] - 0s 2ms/step - loss: 0.4471 - binary_accuracy: 0.8615\n",
            "Epoch 96/100\n",
            "43/43 [==============================] - 0s 3ms/step - loss: 0.3996 - binary_accuracy: 0.8873\n",
            "Epoch 97/100\n",
            "43/43 [==============================] - 0s 2ms/step - loss: 0.4892 - binary_accuracy: 0.8662\n",
            "Epoch 98/100\n",
            "43/43 [==============================] - 0s 2ms/step - loss: 0.4817 - binary_accuracy: 0.8474\n",
            "Epoch 99/100\n",
            "43/43 [==============================] - 0s 2ms/step - loss: 0.4577 - binary_accuracy: 0.8474\n",
            "Epoch 100/100\n",
            "43/43 [==============================] - 0s 3ms/step - loss: 0.4967 - binary_accuracy: 0.8568\n"
          ]
        },
        {
          "output_type": "execute_result",
          "data": {
            "text/plain": [
              "<keras.callbacks.History at 0x7fda9e9ce710>"
            ]
          },
          "metadata": {},
          "execution_count": 76
        }
      ]
    },
    {
      "cell_type": "code",
      "source": [
        "# sumarizacao do modelo\n",
        "classificador.summary()"
      ],
      "metadata": {
        "colab": {
          "base_uri": "https://localhost:8080/"
        },
        "id": "N_uG6eLY7xbX",
        "outputId": "c6c4d74b-1e9e-4dba-f33d-68fe4ee25923"
      },
      "execution_count": 27,
      "outputs": [
        {
          "output_type": "stream",
          "name": "stdout",
          "text": [
            "Model: \"sequential_1\"\n",
            "_________________________________________________________________\n",
            " Layer (type)                Output Shape              Param #   \n",
            "=================================================================\n",
            " dense_1 (Dense)             (None, 16)                496       \n",
            "                                                                 \n",
            " dense_2 (Dense)             (None, 1)                 17        \n",
            "                                                                 \n",
            "=================================================================\n",
            "Total params: 513\n",
            "Trainable params: 513\n",
            "Non-trainable params: 0\n",
            "_________________________________________________________________\n"
          ]
        }
      ]
    },
    {
      "cell_type": "code",
      "source": [
        "# quantidade de parametros\n",
        "classificador.count_params()"
      ],
      "metadata": {
        "colab": {
          "base_uri": "https://localhost:8080/"
        },
        "id": "rSR5h01-9FOG",
        "outputId": "1c609943-7a8d-4c96-d2b3-f62e5e5c56c4"
      },
      "execution_count": 29,
      "outputs": [
        {
          "output_type": "execute_result",
          "data": {
            "text/plain": [
              "513"
            ]
          },
          "metadata": {},
          "execution_count": 29
        }
      ]
    },
    {
      "cell_type": "code",
      "source": [
        "# previsao dos dados de teste\n",
        "previsoes = classificador.predict(x_test)"
      ],
      "metadata": {
        "id": "KEPIP1vJ9S4e"
      },
      "execution_count": 31,
      "outputs": []
    },
    {
      "cell_type": "code",
      "source": [
        "acuracia =accuracy_score(y_test, (previsoes > 0.5))"
      ],
      "metadata": {
        "id": "WC4p2uB-_Ox1"
      },
      "execution_count": 53,
      "outputs": []
    },
    {
      "cell_type": "code",
      "source": [
        "acuracia"
      ],
      "metadata": {
        "colab": {
          "base_uri": "https://localhost:8080/"
        },
        "id": "QKE_8NqJ_lyX",
        "outputId": "815e540f-c15d-4e94-e2b4-c057cb767bf8"
      },
      "execution_count": 54,
      "outputs": [
        {
          "output_type": "execute_result",
          "data": {
            "text/plain": [
              "0.916083916083916"
            ]
          },
          "metadata": {},
          "execution_count": 54
        }
      ]
    },
    {
      "cell_type": "code",
      "source": [
        "confusion_matrix (y_test, (previsoes > 0.5))"
      ],
      "metadata": {
        "colab": {
          "base_uri": "https://localhost:8080/"
        },
        "id": "5IeFC-gQ_plZ",
        "outputId": "e75a79e4-4995-495a-a649-36aa2cb5ea18"
      },
      "execution_count": 56,
      "outputs": [
        {
          "output_type": "execute_result",
          "data": {
            "text/plain": [
              "array([[47,  7],\n",
              "       [ 5, 84]])"
            ]
          },
          "metadata": {},
          "execution_count": 56
        }
      ]
    },
    {
      "cell_type": "code",
      "source": [
        "# ver o resultado pelo keras\n",
        "resultado = classificador.evaluate(x_test, y_test)"
      ],
      "metadata": {
        "colab": {
          "base_uri": "https://localhost:8080/"
        },
        "id": "cYSmrbr0BIem",
        "outputId": "55a93cee-5638-4ee1-cf20-e5cc4b9f31b2"
      },
      "execution_count": 77,
      "outputs": [
        {
          "output_type": "stream",
          "name": "stdout",
          "text": [
            "5/5 [==============================] - 0s 4ms/step - loss: 0.7391 - binary_accuracy: 0.8741\n"
          ]
        }
      ]
    },
    {
      "cell_type": "code",
      "source": [
        "# visualizar os pesos\n",
        "pesos0 = classificador.layers[0].get_weights()\n",
        "pesos1 = classificador.layers[1].get_weights()\n",
        "pesos2 = classificador.layers[2].get_weights()"
      ],
      "metadata": {
        "id": "PRMELCPXB1C2"
      },
      "execution_count": 92,
      "outputs": []
    },
    {
      "cell_type": "code",
      "source": [
        "pesos1"
      ],
      "metadata": {
        "id": "gxEv27LaFSbG",
        "outputId": "23dd224d-30bb-4e93-815d-f7d44eca2be8",
        "colab": {
          "base_uri": "https://localhost:8080/"
        }
      },
      "execution_count": 94,
      "outputs": [
        {
          "output_type": "execute_result",
          "data": {
            "text/plain": [
              "[array([[ 3.29134203e-02, -9.47843194e-02,  3.60374339e-03,\n",
              "          8.75377469e-03,  2.08450574e-02, -6.80475980e-02,\n",
              "         -1.04149483e-01,  1.41536072e-01, -5.06184548e-02,\n",
              "         -1.49726793e-02, -1.06209211e-01,  1.50958508e-01,\n",
              "          7.76223540e-02, -7.07700336e-03,  8.86574108e-03,\n",
              "         -4.15224507e-02],\n",
              "        [ 3.89320813e-02,  7.98979681e-03,  5.10081789e-03,\n",
              "         -1.07287958e-01,  9.81657114e-03,  2.03915033e-02,\n",
              "         -4.89944555e-02, -1.51412830e-01,  1.36764189e-02,\n",
              "          1.58683117e-02, -1.81982275e-02,  1.94023214e-02,\n",
              "         -1.36327863e-01, -2.54743192e-02,  6.67245463e-02,\n",
              "         -1.27905719e-02],\n",
              "        [ 6.48595095e-02,  3.79449688e-04, -3.03113293e-02,\n",
              "          1.72275659e-02, -1.06173651e-02, -1.57361850e-01,\n",
              "         -1.02710642e-03,  9.80295613e-02, -1.11722071e-02,\n",
              "         -2.99706925e-02,  5.32962456e-02,  3.59994471e-02,\n",
              "          6.56128451e-02, -9.53928661e-03,  6.63971826e-02,\n",
              "         -1.40997581e-02],\n",
              "        [ 1.66964252e-02, -2.73483060e-02, -1.94572378e-02,\n",
              "         -7.12349545e-03, -6.18025893e-03,  1.34865493e-01,\n",
              "          1.73617199e-01, -1.55848905e-01, -2.77936663e-02,\n",
              "         -6.47530109e-02, -2.15941947e-02,  3.39638479e-02,\n",
              "         -1.29719824e-01, -2.34404933e-02, -1.94173511e-02,\n",
              "          2.09197868e-03],\n",
              "        [-1.19545110e-01, -4.27158037e-03,  4.00774134e-03,\n",
              "          7.83816203e-02,  4.96040173e-02,  7.26407319e-02,\n",
              "          1.44951846e-02,  1.78657845e-02, -8.95157363e-03,\n",
              "         -2.34440807e-02, -6.72869161e-02, -6.55089330e-04,\n",
              "         -2.73129363e-02, -2.60996539e-02, -9.93037298e-02,\n",
              "         -6.62536733e-03],\n",
              "        [-1.79720610e-01, -4.62276600e-02, -2.04961449e-02,\n",
              "          2.09771276e-01,  1.87482372e-01,  4.35625672e-01,\n",
              "          3.35860550e-01, -2.35565901e-01, -2.89712176e-02,\n",
              "          1.06750615e-02, -1.76840231e-01, -2.51890302e-01,\n",
              "         -2.98046023e-01, -2.91258190e-02, -1.07486084e-01,\n",
              "         -1.76612672e-03],\n",
              "        [-2.72466429e-02,  3.57286818e-02,  1.52298091e-02,\n",
              "          1.30152181e-01,  6.05329275e-02,  2.24454491e-03,\n",
              "          3.76959033e-02,  5.24873957e-02,  3.28738359e-03,\n",
              "         -5.11332452e-02, -6.48118556e-02, -1.01726949e-01,\n",
              "          8.76418948e-02, -3.59654129e-02, -3.27160396e-02,\n",
              "          2.22579180e-03],\n",
              "        [ 1.61124989e-02, -1.52051225e-02, -2.94803199e-03,\n",
              "          5.32302707e-02, -3.12114116e-02,  3.01807355e-02,\n",
              "          2.23919507e-02,  2.81282905e-02, -3.68938013e-03,\n",
              "          5.33756043e-04,  2.77897920e-02,  1.04664583e-02,\n",
              "         -2.38144398e-02, -2.59524677e-02,  3.21658961e-02,\n",
              "         -1.46989273e-02],\n",
              "        [ 4.86513004e-02, -3.41334613e-03, -2.46493276e-02,\n",
              "          2.85148583e-02, -2.77268235e-02, -2.65766919e-01,\n",
              "         -7.60169402e-02,  4.54894640e-02, -4.79974896e-02,\n",
              "         -1.95218865e-02, -1.20758332e-01,  5.40723354e-02,\n",
              "          5.69626987e-02, -5.27545996e-02,  5.83794490e-02,\n",
              "          1.95923410e-02],\n",
              "        [ 9.67205316e-02, -4.97693308e-02, -1.02058630e-02,\n",
              "          1.07747197e-01,  2.54636128e-02,  6.78332150e-02,\n",
              "          1.82646755e-02, -1.18719405e-02, -7.31590064e-03,\n",
              "         -4.39565554e-02,  3.80824395e-02, -4.67935055e-02,\n",
              "          1.21110305e-02, -5.32203689e-02,  2.93069668e-02,\n",
              "          5.03880577e-03],\n",
              "        [ 4.19362895e-02, -5.08363247e-02,  4.25947644e-02,\n",
              "         -3.34917242e-03, -6.59304708e-02, -2.63715107e-02,\n",
              "          1.88264623e-02, -3.61579731e-02,  2.88144462e-02,\n",
              "         -4.08185124e-02,  6.40195608e-02, -9.51728970e-02,\n",
              "         -5.05205169e-02,  1.29507938e-02,  7.02527240e-02,\n",
              "         -5.49774915e-02],\n",
              "        [ 4.00458574e-02, -5.82562573e-02, -5.45589207e-03,\n",
              "          7.26864189e-02, -9.45865586e-02,  2.36406952e-01,\n",
              "          2.45387539e-01, -1.42495304e-01, -1.92385889e-03,\n",
              "         -4.25047390e-02,  1.03388719e-01, -2.15626508e-01,\n",
              "         -2.02450812e-01, -6.49483427e-02,  7.78885558e-02,\n",
              "         -6.79336637e-02],\n",
              "        [ 1.69781838e-02,  1.86000194e-03, -1.26667814e-02,\n",
              "          1.50492880e-02,  7.24570230e-02, -5.07637784e-02,\n",
              "         -3.93912941e-02,  6.86070248e-02,  1.29986191e-02,\n",
              "          6.97023747e-03, -8.51707608e-02,  1.41209409e-01,\n",
              "          8.88861641e-02, -3.49779651e-02,  2.13394947e-02,\n",
              "          8.28510895e-03],\n",
              "        [ 4.34902089e-04,  6.11977838e-03,  4.11195979e-02,\n",
              "         -2.55461857e-02,  2.58720648e-02,  1.87008567e-02,\n",
              "         -1.23304490e-03,  1.14000291e-02, -4.80450578e-02,\n",
              "          2.61827745e-02,  2.28917338e-02,  2.61468696e-03,\n",
              "          3.23358513e-02, -6.25067800e-02,  4.21273820e-02,\n",
              "         -7.42266513e-03],\n",
              "        [ 6.27761381e-03, -6.06715679e-03, -2.62824800e-02,\n",
              "          1.31609654e-02, -1.92201380e-02,  9.89998728e-02,\n",
              "          7.91419484e-03, -1.11757610e-02,  2.31203195e-02,\n",
              "         -2.38475204e-02,  1.24304416e-02,  5.30033186e-03,\n",
              "          3.76829989e-02,  9.15745646e-03,  2.78653912e-02,\n",
              "          2.48258598e-02],\n",
              "        [ 1.02368146e-01, -2.92774718e-02, -3.59409600e-02,\n",
              "          7.77905211e-02, -4.95821470e-03,  5.03901988e-02,\n",
              "         -2.92083342e-02, -1.11318985e-02, -2.12252811e-02,\n",
              "         -4.66095917e-02,  1.41677931e-02, -2.42953096e-02,\n",
              "          1.71452928e-02,  1.44704022e-02,  1.03778623e-01,\n",
              "         -6.83039576e-02]], dtype=float32),\n",
              " array([-0.26315048, -0.00958843, -0.00533738,  0.24993873,  0.17168002,\n",
              "         0.06182851, -0.00840805,  0.17934655, -0.00962234, -0.00715279,\n",
              "        -0.2625324 ,  0.17227414,  0.21382883, -0.01303147, -0.24035451,\n",
              "        -0.04455971], dtype=float32)]"
            ]
          },
          "metadata": {},
          "execution_count": 94
        }
      ]
    },
    {
      "cell_type": "code",
      "source": [],
      "metadata": {
        "id": "pFI2Bcg3F0Y6"
      },
      "execution_count": null,
      "outputs": []
    }
  ]
}