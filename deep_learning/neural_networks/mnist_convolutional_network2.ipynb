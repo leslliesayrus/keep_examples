{
  "nbformat": 4,
  "nbformat_minor": 0,
  "metadata": {
    "colab": {
      "provenance": []
    },
    "kernelspec": {
      "name": "python3",
      "display_name": "Python 3"
    },
    "language_info": {
      "name": "python"
    }
  },
  "cells": [
    {
      "cell_type": "code",
      "source": [
        "import matplotlib.pyplot as plt\n",
        "from keras.datasets import mnist\n",
        "from keras.models import Sequential\n",
        "from keras.layers import Dense, Flatten, Conv2D, MaxPooling2D, Dropout\n",
        "from keras.utils import np_utils\n",
        "from tensorflow.keras.layers import BatchNormalization\n",
        "from keras.preprocessing.image import ImageDataGenerator"
      ],
      "metadata": {
        "id": "V5bIAIrRb_M2"
      },
      "execution_count": 41,
      "outputs": []
    },
    {
      "cell_type": "code",
      "source": [
        "(x_train, y_train),(x_test, y_test) = mnist.load_data()"
      ],
      "metadata": {
        "id": "lffgUs78xnED"
      },
      "execution_count": 55,
      "outputs": []
    },
    {
      "cell_type": "code",
      "source": [
        "x_train.shape, x_test.shape"
      ],
      "metadata": {
        "colab": {
          "base_uri": "https://localhost:8080/"
        },
        "id": "qIzVAsK5yfH-",
        "outputId": "922d10cc-8b6f-4365-9d0c-52dc3264c6ac"
      },
      "execution_count": 56,
      "outputs": [
        {
          "output_type": "execute_result",
          "data": {
            "text/plain": [
              "((60000, 28, 28), (10000, 28, 28))"
            ]
          },
          "metadata": {},
          "execution_count": 56
        }
      ]
    },
    {
      "cell_type": "code",
      "source": [
        "y_train.shape, y_test.shape"
      ],
      "metadata": {
        "colab": {
          "base_uri": "https://localhost:8080/"
        },
        "id": "yZjoSFKmyj14",
        "outputId": "2383e5a5-99af-49a3-bf48-36d2fb2858ad"
      },
      "execution_count": 57,
      "outputs": [
        {
          "output_type": "execute_result",
          "data": {
            "text/plain": [
              "((60000,), (10000,))"
            ]
          },
          "metadata": {},
          "execution_count": 57
        }
      ]
    },
    {
      "cell_type": "code",
      "source": [
        "# visualization\n",
        "plt.imshow(x_train[0])\n",
        "plt.title('class'+ ' '+str(y_train[0]))"
      ],
      "metadata": {
        "colab": {
          "base_uri": "https://localhost:8080/",
          "height": 298
        },
        "id": "EMrxafyDytho",
        "outputId": "a40b81e1-fcfe-4582-e434-a56973187215"
      },
      "execution_count": 58,
      "outputs": [
        {
          "output_type": "execute_result",
          "data": {
            "text/plain": [
              "Text(0.5, 1.0, 'class 5')"
            ]
          },
          "metadata": {},
          "execution_count": 58
        },
        {
          "output_type": "display_data",
          "data": {
            "text/plain": [
              "<Figure size 432x288 with 1 Axes>"
            ],
            "image/png": "[encoded data removed]"
          },
          "metadata": {
            "needs_background": "light"
          }
        }
      ]
    },
    {
      "cell_type": "code",
      "source": [
        "# visualization\n",
        "plt.imshow(x_train[0], cmap = 'gray')\n",
        "plt.title('class'+ ' '+str(y_train[0]))"
      ],
      "metadata": {
        "colab": {
          "base_uri": "https://localhost:8080/",
          "height": 298
        },
        "id": "mXv2ecaey2oS",
        "outputId": "db27671f-806d-427b-dc83-7395ae49aa69"
      },
      "execution_count": 59,
      "outputs": [
        {
          "output_type": "execute_result",
          "data": {
            "text/plain": [
              "Text(0.5, 1.0, 'class 5')"
            ]
          },
          "metadata": {},
          "execution_count": 59
        },
        {
          "output_type": "display_data",
          "data": {
            "text/plain": [
              "<Figure size 432x288 with 1 Axes>"
            ],
            "image/png": "[encoded data removed]"
          },
          "metadata": {
            "needs_background": "light"
          }
        }
      ]
    },
    {
      "cell_type": "code",
      "source": [
        "# processing to tensorflow\n",
        "x_train_processed = x_train.reshape(x_train.shape[0], 28, 28, 1)\n",
        "x_test_processed = x_test.reshape(x_test.shape[0], 28, 28, 1)"
      ],
      "metadata": {
        "id": "AnausXYkzHKC"
      },
      "execution_count": 60,
      "outputs": []
    },
    {
      "cell_type": "code",
      "source": [
        "# change the type\n",
        "x_train_processed = x_train_processed.astype('float32')\n",
        "x_test_processed = x_test_processed.astype('float32')"
      ],
      "metadata": {
        "id": "ckPQhIsaz-PK"
      },
      "execution_count": 61,
      "outputs": []
    },
    {
      "cell_type": "code",
      "source": [
        "# normalization \n",
        "x_train_processed /= 255\n",
        "x_test_processed /= 255"
      ],
      "metadata": {
        "id": "bKO4kMOZ0HGD"
      },
      "execution_count": 62,
      "outputs": []
    },
    {
      "cell_type": "code",
      "source": [
        "y_train"
      ],
      "metadata": {
        "colab": {
          "base_uri": "https://localhost:8080/"
        },
        "id": "UhQ9_JGU1QdS",
        "outputId": "1cc90edd-b52e-4caa-df67-249e5337a648"
      },
      "execution_count": 63,
      "outputs": [
        {
          "output_type": "execute_result",
          "data": {
            "text/plain": [
              "array([5, 0, 4, ..., 5, 6, 8], dtype=uint8)"
            ]
          },
          "metadata": {},
          "execution_count": 63
        }
      ]
    },
    {
      "cell_type": "code",
      "source": [
        "y_train_processed = np_utils.to_categorical(y_train, 10) # 10 because we have 10 classes\n",
        "y_test_processed = np_utils.to_categorical(y_test, 10) # 10 because we have 10 classes"
      ],
      "metadata": {
        "id": "3diczvhX1Sia"
      },
      "execution_count": 64,
      "outputs": []
    },
    {
      "cell_type": "code",
      "source": [
        "y_train_processed"
      ],
      "metadata": {
        "colab": {
          "base_uri": "https://localhost:8080/"
        },
        "id": "bXF2PyzB18Vm",
        "outputId": "1d1cffb3-52c1-44c3-d19e-349db6c3208c"
      },
      "execution_count": 65,
      "outputs": [
        {
          "output_type": "execute_result",
          "data": {
            "text/plain": [
              "array([[0., 0., 0., ..., 0., 0., 0.],\n",
              "       [1., 0., 0., ..., 0., 0., 0.],\n",
              "       [0., 0., 0., ..., 0., 0., 0.],\n",
              "       ...,\n",
              "       [0., 0., 0., ..., 0., 0., 0.],\n",
              "       [0., 0., 0., ..., 0., 0., 0.],\n",
              "       [0., 0., 0., ..., 0., 1., 0.]], dtype=float32)"
            ]
          },
          "metadata": {},
          "execution_count": 65
        }
      ]
    },
    {
      "cell_type": "code",
      "source": [
        "x_test_processed.shape"
      ],
      "metadata": {
        "colab": {
          "base_uri": "https://localhost:8080/"
        },
        "id": "OMo3nZsd4XLQ",
        "outputId": "f9baae96-6396-416e-b562-4e213227c8cf"
      },
      "execution_count": 19,
      "outputs": [
        {
          "output_type": "execute_result",
          "data": {
            "text/plain": [
              "(10000, 28, 28, 1)"
            ]
          },
          "metadata": {},
          "execution_count": 19
        }
      ]
    },
    {
      "cell_type": "code",
      "source": [
        "model = Sequential()\n",
        "model.add(Conv2D(32, (3,3), input_shape = (28,28,1))) # 32 = kernel numbers, (3,3) is the shape kernel\n",
        "model.add(BatchNormalization())\n",
        "model.add(MaxPooling2D(pool_size = (2,2)))\n",
        "\n",
        "model.add(Conv2D(32, (3,3), activation = 'relu')) # 32 = kernel numbers, (3,3) is the shape kernel\n",
        "model.add(BatchNormalization())\n",
        "model.add(MaxPooling2D(pool_size = (2,2)))\n",
        "model.add(Flatten())\n",
        "\n",
        "model.add(Dense(units = 128, activation = 'relu'))\n",
        "model.add(Dropout(0.2))\n",
        "model.add(Dense(units = 128, activation = \"relu\"))\n",
        "model.add(Dropout(0.2))\n",
        "model.add(Dense(units = 10, activation = 'softmax')) # 10 because the variable target there's 10 outputs"
      ],
      "metadata": {
        "id": "EYZ-erIg2Cao"
      },
      "execution_count": 22,
      "outputs": []
    },
    {
      "cell_type": "code",
      "source": [
        "model.compile (loss = 'categorical_crossentropy', optimizer = \"adam\", metrics = ['accuracy'])"
      ],
      "metadata": {
        "id": "ucHP4qGz4P4v"
      },
      "execution_count": 23,
      "outputs": []
    },
    {
      "cell_type": "code",
      "source": [
        "# validation_data show the model performance in test data\n",
        "model.fit(x_train_processed, y_train_processed, batch_size = 128, epochs = 5, validation_data = (x_test_processed, y_test_processed))"
      ],
      "metadata": {
        "colab": {
          "base_uri": "https://localhost:8080/"
        },
        "id": "f7-OOxg14sWC",
        "outputId": "ecd4e86f-29d5-454c-fbd9-613f7688c4d3"
      },
      "execution_count": 24,
      "outputs": [
        {
          "output_type": "stream",
          "name": "stdout",
          "text": [
            "Epoch 1/5\n",
            "469/469 [==============================] - 58s 122ms/step - loss: 0.2140 - accuracy: 0.9334 - val_loss: 0.0896 - val_accuracy: 0.9765\n",
            "Epoch 2/5\n",
            "469/469 [==============================] - 55s 118ms/step - loss: 0.0707 - accuracy: 0.9788 - val_loss: 0.0516 - val_accuracy: 0.9836\n",
            "Epoch 3/5\n",
            "469/469 [==============================] - 52s 111ms/step - loss: 0.0529 - accuracy: 0.9844 - val_loss: 0.0372 - val_accuracy: 0.9878\n",
            "Epoch 4/5\n",
            "469/469 [==============================] - 54s 114ms/step - loss: 0.0418 - accuracy: 0.9877 - val_loss: 0.0348 - val_accuracy: 0.9883\n",
            "Epoch 5/5\n",
            "469/469 [==============================] - 53s 112ms/step - loss: 0.0337 - accuracy: 0.9892 - val_loss: 0.0344 - val_accuracy: 0.9896\n"
          ]
        },
        {
          "output_type": "execute_result",
          "data": {
            "text/plain": [
              "<keras.callbacks.History at 0x7f11bcb25410>"
            ]
          },
          "metadata": {},
          "execution_count": 24
        }
      ]
    },
    {
      "cell_type": "code",
      "source": [
        "accuracy = model.evaluate(x_test_processed, y_test_processed)"
      ],
      "metadata": {
        "colab": {
          "base_uri": "https://localhost:8080/"
        },
        "id": "pvA5G5c05HP7",
        "outputId": "e18ff5c0-9f7a-4d48-d43d-6848a75179fc"
      },
      "execution_count": null,
      "outputs": [
        {
          "output_type": "stream",
          "name": "stdout",
          "text": [
            "313/313 [==============================] - 1s 4ms/step - loss: 0.0472 - accuracy: 0.9852\n"
          ]
        }
      ]
    },
    {
      "cell_type": "code",
      "source": [
        "## Data Augmentation"
      ],
      "metadata": {
        "id": "oKX0RsLZ16d2"
      },
      "execution_count": 54,
      "outputs": []
    },
    {
      "cell_type": "code",
      "source": [
        "model = Sequential()\n",
        "model.add(Conv2D(32, (3,3), input_shape = (28,28,1))) # 32 = kernel numbers, (3,3) is the shape kernel\n",
        "model.add(MaxPooling2D(pool_size = (2,2)))\n",
        "model.add(Flatten())\n",
        "model.add(Dense(units = 128, activation = 'relu'))\n",
        "model.add(Dense(units = 10, activation = 'softmax')) # 10 because the variable target there's 10 outputs"
      ],
      "metadata": {
        "id": "zttVWRrPziOV"
      },
      "execution_count": 39,
      "outputs": []
    },
    {
      "cell_type": "code",
      "source": [
        "model.compile (loss = 'categorical_crossentropy', optimizer = \"adam\", metrics = ['accuracy'])"
      ],
      "metadata": {
        "id": "a4BoWhYMzTlj"
      },
      "execution_count": 40,
      "outputs": []
    },
    {
      "cell_type": "code",
      "source": [
        "generator_train = ImageDataGenerator(rotation_range = 7, horizontal_flip = True, \n",
        "                               shear_range = 0.2,\n",
        "                               height_shift_range=0.07,\n",
        "                               zoom_range = 0.2)"
      ],
      "metadata": {
        "id": "0cegj4w7zZDZ"
      },
      "execution_count": 74,
      "outputs": []
    },
    {
      "cell_type": "code",
      "source": [
        "generator_test = ImageDataGenerator()"
      ],
      "metadata": {
        "id": "27DJmh9h3YFO"
      },
      "execution_count": 75,
      "outputs": []
    },
    {
      "cell_type": "code",
      "source": [
        "new_base_train = generator.flow(x_train_processed, y_train_processed, batch_size = 128)\n",
        "new_base_test = generator.flow(x_test_processed, y_test_processed, batch_size = 128)"
      ],
      "metadata": {
        "id": "h3bSF8VY1g1y"
      },
      "execution_count": 77,
      "outputs": []
    },
    {
      "cell_type": "code",
      "source": [
        "# steps per epoch = number of amostras generate by generator before start a new epoch, number of images / batch_size\n",
        "model.fit_generator(new_base_train, steps_per_epoch = 60000/128, epochs = 5, validation_data= new_base_test, validation_steps = 10000/128)"
      ],
      "metadata": {
        "colab": {
          "base_uri": "https://localhost:8080/"
        },
        "id": "gSCfgSJ-1sry",
        "outputId": "5293774c-5875-4e7e-a853-4def7e9bd21d"
      },
      "execution_count": 79,
      "outputs": [
        {
          "output_type": "stream",
          "name": "stderr",
          "text": [
            "/usr/local/lib/python3.7/dist-packages/ipykernel_launcher.py:2: UserWarning: `Model.fit_generator` is deprecated and will be removed in a future version. Please use `Model.fit`, which supports generators.\n",
            "  \n"
          ]
        },
        {
          "output_type": "stream",
          "name": "stdout",
          "text": [
            "Epoch 1/5\n",
            "468/468 [==============================] - 40s 84ms/step - loss: 0.5661 - accuracy: 0.8227 - val_loss: 0.2709 - val_accuracy: 0.9176\n",
            "Epoch 2/5\n",
            "468/468 [==============================] - 42s 90ms/step - loss: 0.2374 - accuracy: 0.9272 - val_loss: 0.1898 - val_accuracy: 0.9388\n",
            "Epoch 3/5\n",
            "468/468 [==============================] - 39s 83ms/step - loss: 0.1855 - accuracy: 0.9441 - val_loss: 0.1525 - val_accuracy: 0.9500\n",
            "Epoch 4/5\n",
            "468/468 [==============================] - 39s 84ms/step - loss: 0.1590 - accuracy: 0.9505 - val_loss: 0.1443 - val_accuracy: 0.9552\n",
            "Epoch 5/5\n",
            "468/468 [==============================] - 41s 87ms/step - loss: 0.1450 - accuracy: 0.9550 - val_loss: 0.1364 - val_accuracy: 0.9573\n"
          ]
        },
        {
          "output_type": "execute_result",
          "data": {
            "text/plain": [
              "<keras.callbacks.History at 0x7f11c2575210>"
            ]
          },
          "metadata": {},
          "execution_count": 79
        }
      ]
    },
    {
      "cell_type": "code",
      "source": [],
      "metadata": {
        "id": "i62FUR4J1tR0"
      },
      "execution_count": 79,
      "outputs": []
    },
    {
      "cell_type": "code",
      "source": [],
      "metadata": {
        "id": "E_pgCEUg2Kvz"
      },
      "execution_count": null,
      "outputs": []
    }
  ]
}