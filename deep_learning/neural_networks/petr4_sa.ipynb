{
  "nbformat": 4,
  "nbformat_minor": 0,
  "metadata": {
    "colab": {
      "provenance": []
    },
    "kernelspec": {
      "name": "python3",
      "display_name": "Python 3"
    },
    "language_info": {
      "name": "python"
    }
  },
  "cells": [
    {
      "cell_type": "code",
      "execution_count": 51,
      "metadata": {
        "id": "pbBuEN3N6NC6"
      },
      "outputs": [],
      "source": [
        "import pandas as pd\n",
        "import numpy as np\n",
        "from keras.models import Sequential\n",
        "from keras.layers import Dense, Dropout, LSTM"
      ]
    },
    {
      "cell_type": "code",
      "source": [
        "df = pd.read_csv('/PETR4.SA.csv')"
      ],
      "metadata": {
        "id": "mqElYiqX6eop"
      },
      "execution_count": 52,
      "outputs": []
    },
    {
      "cell_type": "code",
      "source": [
        "df.head()"
      ],
      "metadata": {
        "colab": {
          "base_uri": "https://localhost:8080/",
          "height": 206
        },
        "id": "NooeXbb36i8M",
        "outputId": "5e3595ba-a5f0-4565-eca3-e8fe4eb3ee30"
      },
      "execution_count": 53,
      "outputs": [
        {
          "output_type": "execute_result",
          "data": {
            "text/plain": [
              "         Date   Open   High    Low  Close  Adj Close    Volume\n",
              "0  2017-01-02  14.64  14.70  14.60  14.66   7.383342   7525700\n",
              "1  2017-01-03  14.95  15.65  14.95  15.50   7.806399  39947800\n",
              "2  2017-01-04  15.45  15.68  15.31  15.50   7.806399  37071700\n",
              "3  2017-01-05  15.70  15.91  15.62  15.75   7.932310  47586300\n",
              "4  2017-01-06  15.78  15.92  15.50  15.66   7.886981  25592000"
            ],
            "text/html": [
              "\n",
              "  <div id=\"df-64ec714c-4f5d-4ada-b7e0-4c5aac349657\">\n",
              "    <div class=\"colab-df-container\">\n",
              "      <div>\n",
              "<style scoped>\n",
              "    .dataframe tbody tr th:only-of-type {\n",
              "        vertical-align: middle;\n",
              "    }\n",
              "\n",
              "    .dataframe tbody tr th {\n",
              "        vertical-align: top;\n",
              "    }\n",
              "\n",
              "    .dataframe thead th {\n",
              "        text-align: right;\n",
              "    }\n",
              "</style>\n",
              "<table border=\"1\" class=\"dataframe\">\n",
              "  <thead>\n",
              "    <tr style=\"text-align: right;\">\n",
              "      <th></th>\n",
              "      <th>Date</th>\n",
              "      <th>Open</th>\n",
              "      <th>High</th>\n",
              "      <th>Low</th>\n",
              "      <th>Close</th>\n",
              "      <th>Adj Close</th>\n",
              "      <th>Volume</th>\n",
              "    </tr>\n",
              "  </thead>\n",
              "  <tbody>\n",
              "    <tr>\n",
              "      <th>0</th>\n",
              "      <td>2017-01-02</td>\n",
              "      <td>14.64</td>\n",
              "      <td>14.70</td>\n",
              "      <td>14.60</td>\n",
              "      <td>14.66</td>\n",
              "      <td>7.383342</td>\n",
              "      <td>7525700</td>\n",
              "    </tr>\n",
              "    <tr>\n",
              "      <th>1</th>\n",
              "      <td>2017-01-03</td>\n",
              "      <td>14.95</td>\n",
              "      <td>15.65</td>\n",
              "      <td>14.95</td>\n",
              "      <td>15.50</td>\n",
              "      <td>7.806399</td>\n",
              "      <td>39947800</td>\n",
              "    </tr>\n",
              "    <tr>\n",
              "      <th>2</th>\n",
              "      <td>2017-01-04</td>\n",
              "      <td>15.45</td>\n",
              "      <td>15.68</td>\n",
              "      <td>15.31</td>\n",
              "      <td>15.50</td>\n",
              "      <td>7.806399</td>\n",
              "      <td>37071700</td>\n",
              "    </tr>\n",
              "    <tr>\n",
              "      <th>3</th>\n",
              "      <td>2017-01-05</td>\n",
              "      <td>15.70</td>\n",
              "      <td>15.91</td>\n",
              "      <td>15.62</td>\n",
              "      <td>15.75</td>\n",
              "      <td>7.932310</td>\n",
              "      <td>47586300</td>\n",
              "    </tr>\n",
              "    <tr>\n",
              "      <th>4</th>\n",
              "      <td>2017-01-06</td>\n",
              "      <td>15.78</td>\n",
              "      <td>15.92</td>\n",
              "      <td>15.50</td>\n",
              "      <td>15.66</td>\n",
              "      <td>7.886981</td>\n",
              "      <td>25592000</td>\n",
              "    </tr>\n",
              "  </tbody>\n",
              "</table>\n",
              "</div>\n",
              "      <button class=\"colab-df-convert\" onclick=\"convertToInteractive('df-64ec714c-4f5d-4ada-b7e0-4c5aac349657')\"\n",
              "              title=\"Convert this dataframe to an interactive table.\"\n",
              "              style=\"display:none;\">\n",
              "        \n",
              "  <svg xmlns=\"http://www.w3.org/2000/svg\" height=\"24px\"viewBox=\"0 0 24 24\"\n",
              "       width=\"24px\">\n",
              "    <path d=\"M0 0h24v24H0V0z\" fill=\"none\"/>\n",
              "    <path d=\"M18.56 5.44l.94 2.06.94-2.06 2.06-.94-2.06-.94-.94-2.06-.94 2.06-2.06.94zm-11 1L8.5 8.5l.94-2.06 2.06-.94-2.06-.94L8.5 2.5l-.94 2.06-2.06.94zm10 10l.94 2.06.94-2.06 2.06-.94-2.06-.94-.94-2.06-.94 2.06-2.06.94z\"/><path d=\"M17.41 7.96l-1.37-1.37c-.4-.4-.92-.59-1.43-.59-.52 0-1.04.2-1.43.59L10.3 9.45l-7.72 7.72c-.78.78-.78 2.05 0 2.83L4 21.41c.39.39.9.59 1.41.59.51 0 1.02-.2 1.41-.59l7.78-7.78 2.81-2.81c.8-.78.8-2.07 0-2.86zM5.41 20L4 18.59l7.72-7.72 1.47 1.35L5.41 20z\"/>\n",
              "  </svg>\n",
              "      </button>\n",
              "      \n",
              "  <style>\n",
              "    .colab-df-container {\n",
              "      display:flex;\n",
              "      flex-wrap:wrap;\n",
              "      gap: 12px;\n",
              "    }\n",
              "\n",
              "    .colab-df-convert {\n",
              "      background-color: #E8F0FE;\n",
              "      border: none;\n",
              "      border-radius: 50%;\n",
              "      cursor: pointer;\n",
              "      display: none;\n",
              "      fill: #1967D2;\n",
              "      height: 32px;\n",
              "      padding: 0 0 0 0;\n",
              "      width: 32px;\n",
              "    }\n",
              "\n",
              "    .colab-df-convert:hover {\n",
              "      background-color: #E2EBFA;\n",
              "      box-shadow: 0px 1px 2px rgba(60, 64, 67, 0.3), 0px 1px 3px 1px rgba(60, 64, 67, 0.15);\n",
              "      fill: #174EA6;\n",
              "    }\n",
              "\n",
              "    [theme=dark] .colab-df-convert {\n",
              "      background-color: #3B4455;\n",
              "      fill: #D2E3FC;\n",
              "    }\n",
              "\n",
              "    [theme=dark] .colab-df-convert:hover {\n",
              "      background-color: #434B5C;\n",
              "      box-shadow: 0px 1px 3px 1px rgba(0, 0, 0, 0.15);\n",
              "      filter: drop-shadow(0px 1px 2px rgba(0, 0, 0, 0.3));\n",
              "      fill: #FFFFFF;\n",
              "    }\n",
              "  </style>\n",
              "\n",
              "      <script>\n",
              "        const buttonEl =\n",
              "          document.querySelector('#df-64ec714c-4f5d-4ada-b7e0-4c5aac349657 button.colab-df-convert');\n",
              "        buttonEl.style.display =\n",
              "          google.colab.kernel.accessAllowed ? 'block' : 'none';\n",
              "\n",
              "        async function convertToInteractive(key) {\n",
              "          const element = document.querySelector('#df-64ec714c-4f5d-4ada-b7e0-4c5aac349657');\n",
              "          const dataTable =\n",
              "            await google.colab.kernel.invokeFunction('convertToInteractive',\n",
              "                                                     [key], {});\n",
              "          if (!dataTable) return;\n",
              "\n",
              "          const docLinkHtml = 'Like what you see? Visit the ' +\n",
              "            '<a target=\"_blank\" href=https://colab.research.google.com/notebooks/data_table.ipynb>data table notebook</a>'\n",
              "            + ' to learn more about interactive tables.';\n",
              "          element.innerHTML = '';\n",
              "          dataTable['output_type'] = 'display_data';\n",
              "          await google.colab.output.renderOutput(dataTable, element);\n",
              "          const docLink = document.createElement('div');\n",
              "          docLink.innerHTML = docLinkHtml;\n",
              "          element.appendChild(docLink);\n",
              "        }\n",
              "      </script>\n",
              "    </div>\n",
              "  </div>\n",
              "  "
            ]
          },
          "metadata": {},
          "execution_count": 53
        }
      ]
    },
    {
      "cell_type": "code",
      "source": [
        "df.shape"
      ],
      "metadata": {
        "colab": {
          "base_uri": "https://localhost:8080/"
        },
        "id": "bvVHQPqs6j6X",
        "outputId": "62b2a985-c3b2-4fc9-8f4e-94e4fc543bf2"
      },
      "execution_count": 54,
      "outputs": [
        {
          "output_type": "execute_result",
          "data": {
            "text/plain": [
              "(254, 7)"
            ]
          },
          "metadata": {},
          "execution_count": 54
        }
      ]
    },
    {
      "cell_type": "code",
      "source": [
        "df.describe()"
      ],
      "metadata": {
        "colab": {
          "base_uri": "https://localhost:8080/",
          "height": 300
        },
        "id": "67xRYx-G6lBs",
        "outputId": "c388175e-4571-4a02-c825-fc7bd0d71e66"
      },
      "execution_count": 55,
      "outputs": [
        {
          "output_type": "execute_result",
          "data": {
            "text/plain": [
              "             Open        High         Low       Close   Adj Close  \\\n",
              "count  254.000000  254.000000  254.000000  254.000000  254.000000   \n",
              "mean    14.632441   14.799882   14.445984   14.605276    7.355781   \n",
              "std      1.327828    1.316459    1.325898    1.321780    0.665699   \n",
              "min     11.760000   12.010000   11.590000   11.640000    5.862354   \n",
              "25%     13.515000   13.682500   13.332500   13.512500    6.805418   \n",
              "50%     14.960000   15.125000   14.700000   14.880000    7.494143   \n",
              "75%     15.740000   15.900000   15.557500   15.690000    7.902091   \n",
              "max     17.309999   17.440001   16.980000   17.430000    8.778420   \n",
              "\n",
              "             Volume  \n",
              "count  2.540000e+02  \n",
              "mean   3.746444e+07  \n",
              "std    1.624828e+07  \n",
              "min    0.000000e+00  \n",
              "25%    2.867190e+07  \n",
              "50%    3.638825e+07  \n",
              "75%    4.546312e+07  \n",
              "max    1.429249e+08  "
            ],
            "text/html": [
              "\n",
              "  <div id=\"df-73462d6d-06b4-4dcc-b483-06580cc755bf\">\n",
              "    <div class=\"colab-df-container\">\n",
              "      <div>\n",
              "<style scoped>\n",
              "    .dataframe tbody tr th:only-of-type {\n",
              "        vertical-align: middle;\n",
              "    }\n",
              "\n",
              "    .dataframe tbody tr th {\n",
              "        vertical-align: top;\n",
              "    }\n",
              "\n",
              "    .dataframe thead th {\n",
              "        text-align: right;\n",
              "    }\n",
              "</style>\n",
              "<table border=\"1\" class=\"dataframe\">\n",
              "  <thead>\n",
              "    <tr style=\"text-align: right;\">\n",
              "      <th></th>\n",
              "      <th>Open</th>\n",
              "      <th>High</th>\n",
              "      <th>Low</th>\n",
              "      <th>Close</th>\n",
              "      <th>Adj Close</th>\n",
              "      <th>Volume</th>\n",
              "    </tr>\n",
              "  </thead>\n",
              "  <tbody>\n",
              "    <tr>\n",
              "      <th>count</th>\n",
              "      <td>254.000000</td>\n",
              "      <td>254.000000</td>\n",
              "      <td>254.000000</td>\n",
              "      <td>254.000000</td>\n",
              "      <td>254.000000</td>\n",
              "      <td>2.540000e+02</td>\n",
              "    </tr>\n",
              "    <tr>\n",
              "      <th>mean</th>\n",
              "      <td>14.632441</td>\n",
              "      <td>14.799882</td>\n",
              "      <td>14.445984</td>\n",
              "      <td>14.605276</td>\n",
              "      <td>7.355781</td>\n",
              "      <td>3.746444e+07</td>\n",
              "    </tr>\n",
              "    <tr>\n",
              "      <th>std</th>\n",
              "      <td>1.327828</td>\n",
              "      <td>1.316459</td>\n",
              "      <td>1.325898</td>\n",
              "      <td>1.321780</td>\n",
              "      <td>0.665699</td>\n",
              "      <td>1.624828e+07</td>\n",
              "    </tr>\n",
              "    <tr>\n",
              "      <th>min</th>\n",
              "      <td>11.760000</td>\n",
              "      <td>12.010000</td>\n",
              "      <td>11.590000</td>\n",
              "      <td>11.640000</td>\n",
              "      <td>5.862354</td>\n",
              "      <td>0.000000e+00</td>\n",
              "    </tr>\n",
              "    <tr>\n",
              "      <th>25%</th>\n",
              "      <td>13.515000</td>\n",
              "      <td>13.682500</td>\n",
              "      <td>13.332500</td>\n",
              "      <td>13.512500</td>\n",
              "      <td>6.805418</td>\n",
              "      <td>2.867190e+07</td>\n",
              "    </tr>\n",
              "    <tr>\n",
              "      <th>50%</th>\n",
              "      <td>14.960000</td>\n",
              "      <td>15.125000</td>\n",
              "      <td>14.700000</td>\n",
              "      <td>14.880000</td>\n",
              "      <td>7.494143</td>\n",
              "      <td>3.638825e+07</td>\n",
              "    </tr>\n",
              "    <tr>\n",
              "      <th>75%</th>\n",
              "      <td>15.740000</td>\n",
              "      <td>15.900000</td>\n",
              "      <td>15.557500</td>\n",
              "      <td>15.690000</td>\n",
              "      <td>7.902091</td>\n",
              "      <td>4.546312e+07</td>\n",
              "    </tr>\n",
              "    <tr>\n",
              "      <th>max</th>\n",
              "      <td>17.309999</td>\n",
              "      <td>17.440001</td>\n",
              "      <td>16.980000</td>\n",
              "      <td>17.430000</td>\n",
              "      <td>8.778420</td>\n",
              "      <td>1.429249e+08</td>\n",
              "    </tr>\n",
              "  </tbody>\n",
              "</table>\n",
              "</div>\n",
              "      <button class=\"colab-df-convert\" onclick=\"convertToInteractive('df-73462d6d-06b4-4dcc-b483-06580cc755bf')\"\n",
              "              title=\"Convert this dataframe to an interactive table.\"\n",
              "              style=\"display:none;\">\n",
              "        \n",
              "  <svg xmlns=\"http://www.w3.org/2000/svg\" height=\"24px\"viewBox=\"0 0 24 24\"\n",
              "       width=\"24px\">\n",
              "    <path d=\"M0 0h24v24H0V0z\" fill=\"none\"/>\n",
              "    <path d=\"M18.56 5.44l.94 2.06.94-2.06 2.06-.94-2.06-.94-.94-2.06-.94 2.06-2.06.94zm-11 1L8.5 8.5l.94-2.06 2.06-.94-2.06-.94L8.5 2.5l-.94 2.06-2.06.94zm10 10l.94 2.06.94-2.06 2.06-.94-2.06-.94-.94-2.06-.94 2.06-2.06.94z\"/><path d=\"M17.41 7.96l-1.37-1.37c-.4-.4-.92-.59-1.43-.59-.52 0-1.04.2-1.43.59L10.3 9.45l-7.72 7.72c-.78.78-.78 2.05 0 2.83L4 21.41c.39.39.9.59 1.41.59.51 0 1.02-.2 1.41-.59l7.78-7.78 2.81-2.81c.8-.78.8-2.07 0-2.86zM5.41 20L4 18.59l7.72-7.72 1.47 1.35L5.41 20z\"/>\n",
              "  </svg>\n",
              "      </button>\n",
              "      \n",
              "  <style>\n",
              "    .colab-df-container {\n",
              "      display:flex;\n",
              "      flex-wrap:wrap;\n",
              "      gap: 12px;\n",
              "    }\n",
              "\n",
              "    .colab-df-convert {\n",
              "      background-color: #E8F0FE;\n",
              "      border: none;\n",
              "      border-radius: 50%;\n",
              "      cursor: pointer;\n",
              "      display: none;\n",
              "      fill: #1967D2;\n",
              "      height: 32px;\n",
              "      padding: 0 0 0 0;\n",
              "      width: 32px;\n",
              "    }\n",
              "\n",
              "    .colab-df-convert:hover {\n",
              "      background-color: #E2EBFA;\n",
              "      box-shadow: 0px 1px 2px rgba(60, 64, 67, 0.3), 0px 1px 3px 1px rgba(60, 64, 67, 0.15);\n",
              "      fill: #174EA6;\n",
              "    }\n",
              "\n",
              "    [theme=dark] .colab-df-convert {\n",
              "      background-color: #3B4455;\n",
              "      fill: #D2E3FC;\n",
              "    }\n",
              "\n",
              "    [theme=dark] .colab-df-convert:hover {\n",
              "      background-color: #434B5C;\n",
              "      box-shadow: 0px 1px 3px 1px rgba(0, 0, 0, 0.15);\n",
              "      filter: drop-shadow(0px 1px 2px rgba(0, 0, 0, 0.3));\n",
              "      fill: #FFFFFF;\n",
              "    }\n",
              "  </style>\n",
              "\n",
              "      <script>\n",
              "        const buttonEl =\n",
              "          document.querySelector('#df-73462d6d-06b4-4dcc-b483-06580cc755bf button.colab-df-convert');\n",
              "        buttonEl.style.display =\n",
              "          google.colab.kernel.accessAllowed ? 'block' : 'none';\n",
              "\n",
              "        async function convertToInteractive(key) {\n",
              "          const element = document.querySelector('#df-73462d6d-06b4-4dcc-b483-06580cc755bf');\n",
              "          const dataTable =\n",
              "            await google.colab.kernel.invokeFunction('convertToInteractive',\n",
              "                                                     [key], {});\n",
              "          if (!dataTable) return;\n",
              "\n",
              "          const docLinkHtml = 'Like what you see? Visit the ' +\n",
              "            '<a target=\"_blank\" href=https://colab.research.google.com/notebooks/data_table.ipynb>data table notebook</a>'\n",
              "            + ' to learn more about interactive tables.';\n",
              "          element.innerHTML = '';\n",
              "          dataTable['output_type'] = 'display_data';\n",
              "          await google.colab.output.renderOutput(dataTable, element);\n",
              "          const docLink = document.createElement('div');\n",
              "          docLink.innerHTML = docLinkHtml;\n",
              "          element.appendChild(docLink);\n",
              "        }\n",
              "      </script>\n",
              "    </div>\n",
              "  </div>\n",
              "  "
            ]
          },
          "metadata": {},
          "execution_count": 55
        }
      ]
    },
    {
      "cell_type": "code",
      "source": [
        "train_base = df.iloc[:,1:2].values"
      ],
      "metadata": {
        "id": "101qSpYr7M_q"
      },
      "execution_count": 56,
      "outputs": []
    },
    {
      "cell_type": "code",
      "source": [
        "from sklearn.preprocessing import MinMaxScaler"
      ],
      "metadata": {
        "id": "FiKFpfOm7pEA"
      },
      "execution_count": 57,
      "outputs": []
    },
    {
      "cell_type": "code",
      "source": [
        "scaler = MinMaxScaler(feature_range = (0,1))\n",
        "train_base_normalized = scaler.fit_transform(train_base)"
      ],
      "metadata": {
        "id": "XHVfHx0a7qPf"
      },
      "execution_count": 58,
      "outputs": []
    },
    {
      "cell_type": "code",
      "source": [
        "len(train_base_normalized)"
      ],
      "metadata": {
        "colab": {
          "base_uri": "https://localhost:8080/"
        },
        "id": "TvpBToYpADlM",
        "outputId": "83fd1ccd-0e97-499c-bec8-9ab350f6f76a"
      },
      "execution_count": 59,
      "outputs": [
        {
          "output_type": "execute_result",
          "data": {
            "text/plain": [
              "254"
            ]
          },
          "metadata": {},
          "execution_count": 59
        }
      ]
    },
    {
      "cell_type": "code",
      "source": [
        "x = []\n",
        "y = []\n",
        "for i in range(4, 254):\n",
        "  x.append(train_base_normalized[i-4:i, 0])\n",
        "  y.append(train_base_normalized[i,0])\n"
      ],
      "metadata": {
        "id": "lYPELflU8JEN"
      },
      "execution_count": 60,
      "outputs": []
    },
    {
      "cell_type": "code",
      "source": [
        "x,y = np.array(x), np.array(y)"
      ],
      "metadata": {
        "id": "tS43kT0hA9Lv"
      },
      "execution_count": 61,
      "outputs": []
    },
    {
      "cell_type": "code",
      "source": [
        "# preparing to the keras\n",
        "x = np.reshape(x,(x.shape[0],x.shape[1], 1))"
      ],
      "metadata": {
        "id": "MyKrRQLLA9-5"
      },
      "execution_count": 62,
      "outputs": []
    },
    {
      "cell_type": "code",
      "source": [
        "model = Sequential()\n",
        "model.add(LSTM(units = 64, return_sequences = True, input_shape = (x.shape[1],1)))\n",
        "model.add(Dropout(0.2))\n",
        "model.add(Dense(units = 1, activation= 'linear'))\n",
        "\n",
        "model.compile(optimizer = \"rmsprop\", loss = \"mean_squared_error\", metrics= ['mean_absolute_error'])\n"
      ],
      "metadata": {
        "id": "_6nnbqwWBVw9"
      },
      "execution_count": 63,
      "outputs": []
    },
    {
      "cell_type": "code",
      "source": [
        "model.fit(x,y, epochs = 100, batch_size = 16)"
      ],
      "metadata": {
        "colab": {
          "base_uri": "https://localhost:8080/"
        },
        "id": "iz7Bau6rB9JA",
        "outputId": "d64f7323-171a-4cf9-a32c-f807c89cf997"
      },
      "execution_count": 64,
      "outputs": [
        {
          "output_type": "stream",
          "name": "stdout",
          "text": [
            "Epoch 1/100\n",
            "16/16 [==============================] - 2s 4ms/step - loss: 0.1819 - mean_absolute_error: 0.3621\n",
            "Epoch 2/100\n",
            "16/16 [==============================] - 0s 4ms/step - loss: 0.1149 - mean_absolute_error: 0.2790\n",
            "Epoch 3/100\n",
            "16/16 [==============================] - 0s 4ms/step - loss: 0.0984 - mean_absolute_error: 0.2586\n",
            "Epoch 4/100\n",
            "16/16 [==============================] - 0s 4ms/step - loss: 0.0848 - mean_absolute_error: 0.2415\n",
            "Epoch 5/100\n",
            "16/16 [==============================] - 0s 5ms/step - loss: 0.0737 - mean_absolute_error: 0.2287\n",
            "Epoch 6/100\n",
            "16/16 [==============================] - 0s 5ms/step - loss: 0.0664 - mean_absolute_error: 0.2192\n",
            "Epoch 7/100\n",
            "16/16 [==============================] - 0s 4ms/step - loss: 0.0643 - mean_absolute_error: 0.2167\n",
            "Epoch 8/100\n",
            "16/16 [==============================] - 0s 4ms/step - loss: 0.0631 - mean_absolute_error: 0.2169\n",
            "Epoch 9/100\n",
            "16/16 [==============================] - 0s 4ms/step - loss: 0.0617 - mean_absolute_error: 0.2134\n",
            "Epoch 10/100\n",
            "16/16 [==============================] - 0s 4ms/step - loss: 0.0613 - mean_absolute_error: 0.2132\n",
            "Epoch 11/100\n",
            "16/16 [==============================] - 0s 4ms/step - loss: 0.0608 - mean_absolute_error: 0.2128\n",
            "Epoch 12/100\n",
            "16/16 [==============================] - 0s 5ms/step - loss: 0.0600 - mean_absolute_error: 0.2110\n",
            "Epoch 13/100\n",
            "16/16 [==============================] - 0s 4ms/step - loss: 0.0601 - mean_absolute_error: 0.2115\n",
            "Epoch 14/100\n",
            "16/16 [==============================] - 0s 4ms/step - loss: 0.0601 - mean_absolute_error: 0.2117\n",
            "Epoch 15/100\n",
            "16/16 [==============================] - 0s 4ms/step - loss: 0.0601 - mean_absolute_error: 0.2124\n",
            "Epoch 16/100\n",
            "16/16 [==============================] - 0s 4ms/step - loss: 0.0598 - mean_absolute_error: 0.2115\n",
            "Epoch 17/100\n",
            "16/16 [==============================] - 0s 4ms/step - loss: 0.0597 - mean_absolute_error: 0.2116\n",
            "Epoch 18/100\n",
            "16/16 [==============================] - 0s 5ms/step - loss: 0.0594 - mean_absolute_error: 0.2111\n",
            "Epoch 19/100\n",
            "16/16 [==============================] - 0s 5ms/step - loss: 0.0592 - mean_absolute_error: 0.2123\n",
            "Epoch 20/100\n",
            "16/16 [==============================] - 0s 4ms/step - loss: 0.0590 - mean_absolute_error: 0.2110\n",
            "Epoch 21/100\n",
            "16/16 [==============================] - 0s 4ms/step - loss: 0.0598 - mean_absolute_error: 0.2131\n",
            "Epoch 22/100\n",
            "16/16 [==============================] - 0s 4ms/step - loss: 0.0592 - mean_absolute_error: 0.2113\n",
            "Epoch 23/100\n",
            "16/16 [==============================] - 0s 4ms/step - loss: 0.0592 - mean_absolute_error: 0.2099\n",
            "Epoch 24/100\n",
            "16/16 [==============================] - 0s 4ms/step - loss: 0.0593 - mean_absolute_error: 0.2130\n",
            "Epoch 25/100\n",
            "16/16 [==============================] - 0s 4ms/step - loss: 0.0590 - mean_absolute_error: 0.2115\n",
            "Epoch 26/100\n",
            "16/16 [==============================] - 0s 4ms/step - loss: 0.0593 - mean_absolute_error: 0.2113\n",
            "Epoch 27/100\n",
            "16/16 [==============================] - 0s 5ms/step - loss: 0.0592 - mean_absolute_error: 0.2121\n",
            "Epoch 28/100\n",
            "16/16 [==============================] - 0s 4ms/step - loss: 0.0581 - mean_absolute_error: 0.2083\n",
            "Epoch 29/100\n",
            "16/16 [==============================] - 0s 4ms/step - loss: 0.0598 - mean_absolute_error: 0.2131\n",
            "Epoch 30/100\n",
            "16/16 [==============================] - 0s 4ms/step - loss: 0.0598 - mean_absolute_error: 0.2127\n",
            "Epoch 31/100\n",
            "16/16 [==============================] - 0s 5ms/step - loss: 0.0591 - mean_absolute_error: 0.2117\n",
            "Epoch 32/100\n",
            "16/16 [==============================] - 0s 5ms/step - loss: 0.0592 - mean_absolute_error: 0.2117\n",
            "Epoch 33/100\n",
            "16/16 [==============================] - 0s 4ms/step - loss: 0.0592 - mean_absolute_error: 0.2125\n",
            "Epoch 34/100\n",
            "16/16 [==============================] - 0s 4ms/step - loss: 0.0592 - mean_absolute_error: 0.2119\n",
            "Epoch 35/100\n",
            "16/16 [==============================] - 0s 4ms/step - loss: 0.0589 - mean_absolute_error: 0.2120\n",
            "Epoch 36/100\n",
            "16/16 [==============================] - 0s 5ms/step - loss: 0.0589 - mean_absolute_error: 0.2117\n",
            "Epoch 37/100\n",
            "16/16 [==============================] - 0s 4ms/step - loss: 0.0591 - mean_absolute_error: 0.2119\n",
            "Epoch 38/100\n",
            "16/16 [==============================] - 0s 4ms/step - loss: 0.0581 - mean_absolute_error: 0.2108\n",
            "Epoch 39/100\n",
            "16/16 [==============================] - 0s 4ms/step - loss: 0.0588 - mean_absolute_error: 0.2096\n",
            "Epoch 40/100\n",
            "16/16 [==============================] - 0s 4ms/step - loss: 0.0590 - mean_absolute_error: 0.2122\n",
            "Epoch 41/100\n",
            "16/16 [==============================] - 0s 4ms/step - loss: 0.0590 - mean_absolute_error: 0.2107\n",
            "Epoch 42/100\n",
            "16/16 [==============================] - 0s 4ms/step - loss: 0.0592 - mean_absolute_error: 0.2113\n",
            "Epoch 43/100\n",
            "16/16 [==============================] - 0s 4ms/step - loss: 0.0590 - mean_absolute_error: 0.2113\n",
            "Epoch 44/100\n",
            "16/16 [==============================] - 0s 4ms/step - loss: 0.0588 - mean_absolute_error: 0.2108\n",
            "Epoch 45/100\n",
            "16/16 [==============================] - 0s 4ms/step - loss: 0.0585 - mean_absolute_error: 0.2116\n",
            "Epoch 46/100\n",
            "16/16 [==============================] - 0s 5ms/step - loss: 0.0583 - mean_absolute_error: 0.2084\n",
            "Epoch 47/100\n",
            "16/16 [==============================] - 0s 4ms/step - loss: 0.0588 - mean_absolute_error: 0.2115\n",
            "Epoch 48/100\n",
            "16/16 [==============================] - 0s 4ms/step - loss: 0.0589 - mean_absolute_error: 0.2112\n",
            "Epoch 49/100\n",
            "16/16 [==============================] - 0s 4ms/step - loss: 0.0586 - mean_absolute_error: 0.2103\n",
            "Epoch 50/100\n",
            "16/16 [==============================] - 0s 4ms/step - loss: 0.0586 - mean_absolute_error: 0.2096\n",
            "Epoch 51/100\n",
            "16/16 [==============================] - 0s 4ms/step - loss: 0.0587 - mean_absolute_error: 0.2110\n",
            "Epoch 52/100\n",
            "16/16 [==============================] - 0s 5ms/step - loss: 0.0589 - mean_absolute_error: 0.2105\n",
            "Epoch 53/100\n",
            "16/16 [==============================] - 0s 4ms/step - loss: 0.0588 - mean_absolute_error: 0.2108\n",
            "Epoch 54/100\n",
            "16/16 [==============================] - 0s 5ms/step - loss: 0.0589 - mean_absolute_error: 0.2118\n",
            "Epoch 55/100\n",
            "16/16 [==============================] - 0s 4ms/step - loss: 0.0584 - mean_absolute_error: 0.2093\n",
            "Epoch 56/100\n",
            "16/16 [==============================] - 0s 4ms/step - loss: 0.0589 - mean_absolute_error: 0.2117\n",
            "Epoch 57/100\n",
            "16/16 [==============================] - 0s 4ms/step - loss: 0.0590 - mean_absolute_error: 0.2118\n",
            "Epoch 58/100\n",
            "16/16 [==============================] - 0s 5ms/step - loss: 0.0588 - mean_absolute_error: 0.2113\n",
            "Epoch 59/100\n",
            "16/16 [==============================] - 0s 5ms/step - loss: 0.0593 - mean_absolute_error: 0.2121\n",
            "Epoch 60/100\n",
            "16/16 [==============================] - 0s 4ms/step - loss: 0.0588 - mean_absolute_error: 0.2121\n",
            "Epoch 61/100\n",
            "16/16 [==============================] - 0s 4ms/step - loss: 0.0586 - mean_absolute_error: 0.2106\n",
            "Epoch 62/100\n",
            "16/16 [==============================] - 0s 4ms/step - loss: 0.0589 - mean_absolute_error: 0.2111\n",
            "Epoch 63/100\n",
            "16/16 [==============================] - 0s 5ms/step - loss: 0.0588 - mean_absolute_error: 0.2122\n",
            "Epoch 64/100\n",
            "16/16 [==============================] - 0s 4ms/step - loss: 0.0588 - mean_absolute_error: 0.2117\n",
            "Epoch 65/100\n",
            "16/16 [==============================] - 0s 4ms/step - loss: 0.0586 - mean_absolute_error: 0.2112\n",
            "Epoch 66/100\n",
            "16/16 [==============================] - 0s 5ms/step - loss: 0.0592 - mean_absolute_error: 0.2117\n",
            "Epoch 67/100\n",
            "16/16 [==============================] - 0s 4ms/step - loss: 0.0587 - mean_absolute_error: 0.2113\n",
            "Epoch 68/100\n",
            "16/16 [==============================] - 0s 4ms/step - loss: 0.0588 - mean_absolute_error: 0.2118\n",
            "Epoch 69/100\n",
            "16/16 [==============================] - 0s 4ms/step - loss: 0.0590 - mean_absolute_error: 0.2118\n",
            "Epoch 70/100\n",
            "16/16 [==============================] - 0s 4ms/step - loss: 0.0583 - mean_absolute_error: 0.2086\n",
            "Epoch 71/100\n",
            "16/16 [==============================] - 0s 4ms/step - loss: 0.0586 - mean_absolute_error: 0.2113\n",
            "Epoch 72/100\n",
            "16/16 [==============================] - 0s 5ms/step - loss: 0.0590 - mean_absolute_error: 0.2115\n",
            "Epoch 73/100\n",
            "16/16 [==============================] - 0s 5ms/step - loss: 0.0586 - mean_absolute_error: 0.2108\n",
            "Epoch 74/100\n",
            "16/16 [==============================] - 0s 4ms/step - loss: 0.0587 - mean_absolute_error: 0.2112\n",
            "Epoch 75/100\n",
            "16/16 [==============================] - 0s 4ms/step - loss: 0.0588 - mean_absolute_error: 0.2113\n",
            "Epoch 76/100\n",
            "16/16 [==============================] - 0s 5ms/step - loss: 0.0586 - mean_absolute_error: 0.2117\n",
            "Epoch 77/100\n",
            "16/16 [==============================] - 0s 5ms/step - loss: 0.0585 - mean_absolute_error: 0.2082\n",
            "Epoch 78/100\n",
            "16/16 [==============================] - 0s 4ms/step - loss: 0.0585 - mean_absolute_error: 0.2109\n",
            "Epoch 79/100\n",
            "16/16 [==============================] - 0s 4ms/step - loss: 0.0590 - mean_absolute_error: 0.2118\n",
            "Epoch 80/100\n",
            "16/16 [==============================] - 0s 4ms/step - loss: 0.0587 - mean_absolute_error: 0.2113\n",
            "Epoch 81/100\n",
            "16/16 [==============================] - 0s 4ms/step - loss: 0.0588 - mean_absolute_error: 0.2118\n",
            "Epoch 82/100\n",
            "16/16 [==============================] - 0s 4ms/step - loss: 0.0585 - mean_absolute_error: 0.2100\n",
            "Epoch 83/100\n",
            "16/16 [==============================] - 0s 5ms/step - loss: 0.0585 - mean_absolute_error: 0.2115\n",
            "Epoch 84/100\n",
            "16/16 [==============================] - 0s 4ms/step - loss: 0.0588 - mean_absolute_error: 0.2115\n",
            "Epoch 85/100\n",
            "16/16 [==============================] - 0s 4ms/step - loss: 0.0585 - mean_absolute_error: 0.2107\n",
            "Epoch 86/100\n",
            "16/16 [==============================] - 0s 4ms/step - loss: 0.0586 - mean_absolute_error: 0.2110\n",
            "Epoch 87/100\n",
            "16/16 [==============================] - 0s 4ms/step - loss: 0.0589 - mean_absolute_error: 0.2123\n",
            "Epoch 88/100\n",
            "16/16 [==============================] - 0s 4ms/step - loss: 0.0588 - mean_absolute_error: 0.2116\n",
            "Epoch 89/100\n",
            "16/16 [==============================] - 0s 4ms/step - loss: 0.0587 - mean_absolute_error: 0.2112\n",
            "Epoch 90/100\n",
            "16/16 [==============================] - 0s 4ms/step - loss: 0.0582 - mean_absolute_error: 0.2115\n",
            "Epoch 91/100\n",
            "16/16 [==============================] - 0s 4ms/step - loss: 0.0589 - mean_absolute_error: 0.2116\n",
            "Epoch 92/100\n",
            "16/16 [==============================] - 0s 4ms/step - loss: 0.0589 - mean_absolute_error: 0.2107\n",
            "Epoch 93/100\n",
            "16/16 [==============================] - 0s 4ms/step - loss: 0.0585 - mean_absolute_error: 0.2111\n",
            "Epoch 94/100\n",
            "16/16 [==============================] - 0s 4ms/step - loss: 0.0583 - mean_absolute_error: 0.2102\n",
            "Epoch 95/100\n",
            "16/16 [==============================] - 0s 5ms/step - loss: 0.0585 - mean_absolute_error: 0.2116\n",
            "Epoch 96/100\n",
            "16/16 [==============================] - 0s 4ms/step - loss: 0.0583 - mean_absolute_error: 0.2091\n",
            "Epoch 97/100\n",
            "16/16 [==============================] - 0s 4ms/step - loss: 0.0588 - mean_absolute_error: 0.2122\n",
            "Epoch 98/100\n",
            "16/16 [==============================] - 0s 5ms/step - loss: 0.0585 - mean_absolute_error: 0.2112\n",
            "Epoch 99/100\n",
            "16/16 [==============================] - 0s 5ms/step - loss: 0.0586 - mean_absolute_error: 0.2107\n",
            "Epoch 100/100\n",
            "16/16 [==============================] - 0s 4ms/step - loss: 0.0585 - mean_absolute_error: 0.2109\n"
          ]
        },
        {
          "output_type": "execute_result",
          "data": {
            "text/plain": [
              "<keras.callbacks.History at 0x7f898445cd10>"
            ]
          },
          "metadata": {},
          "execution_count": 64
        }
      ]
    },
    {
      "cell_type": "code",
      "source": [],
      "metadata": {
        "id": "ms8WIPogEQmn"
      },
      "execution_count": 113,
      "outputs": []
    },
    {
      "cell_type": "code",
      "source": [],
      "metadata": {
        "colab": {
          "base_uri": "https://localhost:8080/"
        },
        "id": "RviuTeS2IRqt",
        "outputId": "fda19adc-75e1-4d8e-9dd9-fa172f9c12f1"
      },
      "execution_count": 113,
      "outputs": [
        {
          "output_type": "execute_result",
          "data": {
            "text/plain": [
              "array([[0.5065307 ],\n",
              "       [0.49941766],\n",
              "       [0.5062311 ],\n",
              "       [0.50507087]], dtype=float32)"
            ]
          },
          "metadata": {},
          "execution_count": 113
        }
      ]
    },
    {
      "cell_type": "code",
      "source": [],
      "metadata": {
        "id": "EIrLBL1lLyFi"
      },
      "execution_count": 109,
      "outputs": []
    },
    {
      "cell_type": "code",
      "source": [],
      "metadata": {
        "id": "PMc4gCWVL24c"
      },
      "execution_count": 106,
      "outputs": []
    },
    {
      "cell_type": "code",
      "source": [],
      "metadata": {
        "id": "rcEkeiOOL3oj"
      },
      "execution_count": 106,
      "outputs": []
    },
    {
      "cell_type": "code",
      "source": [],
      "metadata": {
        "id": "AEBcIbd3MRKm"
      },
      "execution_count": null,
      "outputs": []
    }
  ]
}